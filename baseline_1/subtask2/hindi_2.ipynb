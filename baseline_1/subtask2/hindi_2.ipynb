{
 "cells": [
  {
   "cell_type": "code",
   "execution_count": null,
   "id": "2a2226d9",
   "metadata": {
    "_cell_guid": "b1076dfc-b9ad-4769-8c92-a6c4dae69d19",
    "_uuid": "8f2839f25d086af736a60e9eeb907d3b93b6e0e5",
    "execution": {
     "iopub.execute_input": "2025-03-24T19:21:29.591738Z",
     "iopub.status.busy": "2025-03-24T19:21:29.591420Z",
     "iopub.status.idle": "2025-03-24T19:21:31.666109Z",
     "shell.execute_reply": "2025-03-24T19:21:31.665066Z"
    },
    "papermill": {
     "duration": 2.082258,
     "end_time": "2025-03-24T19:21:31.667703",
     "exception": false,
     "start_time": "2025-03-24T19:21:29.585445",
     "status": "completed"
    },
    "tags": []
   },
   "outputs": [],
   "source": [
    "import pandas as pd\n",
    "from sklearn.model_selection import train_test_split\n",
    "\n",
    "hindi_train = pd.read_csv(\"/kaggle/input/hatespeech/hindi_train.csv\")"
   ]
  },
  {
   "cell_type": "code",
   "execution_count": 3,
   "id": "8328b707",
   "metadata": {
    "execution": {
     "iopub.execute_input": "2025-03-24T19:21:31.692402Z",
     "iopub.status.busy": "2025-03-24T19:21:31.692086Z",
     "iopub.status.idle": "2025-03-24T19:21:31.696746Z",
     "shell.execute_reply": "2025-03-24T19:21:31.695897Z"
    },
    "papermill": {
     "duration": 0.010974,
     "end_time": "2025-03-24T19:21:31.698203",
     "exception": false,
     "start_time": "2025-03-24T19:21:31.687229",
     "status": "completed"
    },
    "tags": []
   },
   "outputs": [],
   "source": [
    "import re,string\n",
    "def normalize_text(text):\n",
    "  # text = text.lower()\n",
    "  text = re.sub('\\[.*?\\]', ' ', text)\n",
    "  text = re.sub('https?://\\S+|www\\.\\S+', ' ', text)\n",
    "  text = re.sub('<.*?>+', ' ', text)\n",
    "  text = re.sub('[%s]' % re.escape(string.punctuation), ' ', text)\n",
    "  text = re.sub('\\n', ' ', text)\n",
    "  text = re.sub('\\w*\\d\\w*', ' ', text)\n",
    "  text = re.sub('<handle replaced>', '', text)\n",
    "  return text"
   ]
  },
  {
   "cell_type": "code",
   "execution_count": null,
   "id": "09503fc0",
   "metadata": {
    "execution": {
     "iopub.execute_input": "2025-03-24T19:21:31.707394Z",
     "iopub.status.busy": "2025-03-24T19:21:31.707113Z",
     "iopub.status.idle": "2025-03-24T19:21:32.109662Z",
     "shell.execute_reply": "2025-03-24T19:21:32.108723Z"
    },
    "papermill": {
     "duration": 0.409081,
     "end_time": "2025-03-24T19:21:32.111595",
     "exception": false,
     "start_time": "2025-03-24T19:21:31.702514",
     "status": "completed"
    },
    "tags": []
   },
   "outputs": [],
   "source": [
    "hindi_train['text'] = hindi_train['text'].apply(lambda x: normalize_text(x))"
   ]
  },
  {
   "cell_type": "code",
   "execution_count": null,
   "id": "1c9c7d94",
   "metadata": {
    "execution": {
     "iopub.execute_input": "2025-03-24T19:21:32.122156Z",
     "iopub.status.busy": "2025-03-24T19:21:32.121818Z",
     "iopub.status.idle": "2025-03-24T19:21:32.220966Z",
     "shell.execute_reply": "2025-03-24T19:21:32.219870Z"
    },
    "papermill": {
     "duration": 0.106315,
     "end_time": "2025-03-24T19:21:32.222689",
     "exception": false,
     "start_time": "2025-03-24T19:21:32.116374",
     "status": "completed"
    },
    "tags": []
   },
   "outputs": [],
   "source": [
    "hindi_val = pd.read_csv(\"/kaggle/input/hatespeech/hindi_val.csv\")\n",
    "hindi_val['text'] = hindi_val['text'].apply(lambda x: normalize_text(x))"
   ]
  },
  {
   "cell_type": "code",
   "execution_count": 6,
   "id": "097f9cd0",
   "metadata": {
    "execution": {
     "iopub.execute_input": "2025-03-24T19:21:32.232851Z",
     "iopub.status.busy": "2025-03-24T19:21:32.232510Z",
     "iopub.status.idle": "2025-03-24T19:21:44.977546Z",
     "shell.execute_reply": "2025-03-24T19:21:44.976801Z"
    },
    "papermill": {
     "duration": 12.751969,
     "end_time": "2025-03-24T19:21:44.979166",
     "exception": false,
     "start_time": "2025-03-24T19:21:32.227197",
     "status": "completed"
    },
    "tags": []
   },
   "outputs": [
    {
     "data": {
      "application/vnd.jupyter.widget-view+json": {
       "model_id": "70d5da7405ba465491aff234e0a415b5",
       "version_major": 2,
       "version_minor": 0
      },
      "text/plain": [
       "config.json:   0%|          | 0.00/507 [00:00<?, ?B/s]"
      ]
     },
     "metadata": {},
     "output_type": "display_data"
    },
    {
     "data": {
      "application/vnd.jupyter.widget-view+json": {
       "model_id": "a15b6c4cd6a348f4bac64b4ef6a8167d",
       "version_major": 2,
       "version_minor": 0
      },
      "text/plain": [
       "spiece.model:   0%|          | 0.00/5.65M [00:00<?, ?B/s]"
      ]
     },
     "metadata": {},
     "output_type": "display_data"
    }
   ],
   "source": [
    "from torch.utils.data import Dataset, DataLoader\n",
    "from transformers import AutoTokenizer\n",
    "\n",
    "MODEL_NAME = \"ai4bharat/indic-bert\"\n",
    "tokenizer = AutoTokenizer.from_pretrained(MODEL_NAME)\n",
    "\n",
    "class TextDataset(Dataset):\n",
    "    def __init__(self, dataframe, tokenizer, max_len=128):\n",
    "        self.data = dataframe\n",
    "        self.tokenizer = tokenizer\n",
    "        self.max_len = max_len\n",
    "    \n",
    "    def __len__(self):\n",
    "        return len(self.data)\n",
    "    \n",
    "    def __getitem__(self, idx):\n",
    "        text = str(self.data.iloc[idx]['text'])\n",
    "        label = int(self.data.iloc[idx]['label'])\n",
    "        encoding = self.tokenizer(text, truncation=True, padding='max_length', max_length=self.max_len, return_tensors=\"pt\")\n",
    "        return {\n",
    "            'input_ids': encoding['input_ids'].squeeze(0),\n",
    "            'attention_mask': encoding['attention_mask'].squeeze(0),\n",
    "            'labels': torch.tensor(label)\n",
    "        }\n",
    "\n",
    "\n",
    "train_dataset = TextDataset(hindi_train, tokenizer)\n",
    "val_dataset = TextDataset(hindi_val, tokenizer)\n",
    "\n",
    "train_loader = DataLoader(train_dataset, batch_size=16, shuffle=True)\n",
    "val_loader = DataLoader(val_dataset, batch_size=32)\n"
   ]
  },
  {
   "cell_type": "code",
   "execution_count": null,
   "id": "1ab34817",
   "metadata": {
    "execution": {
     "iopub.execute_input": "2025-03-24T19:21:44.989683Z",
     "iopub.status.busy": "2025-03-24T19:21:44.989209Z",
     "iopub.status.idle": "2025-03-24T19:38:27.669519Z",
     "shell.execute_reply": "2025-03-24T19:38:27.668441Z"
    },
    "papermill": {
     "duration": 1002.687085,
     "end_time": "2025-03-24T19:38:27.671232",
     "exception": false,
     "start_time": "2025-03-24T19:21:44.984147",
     "status": "completed"
    },
    "tags": []
   },
   "outputs": [
    {
     "data": {
      "application/vnd.jupyter.widget-view+json": {
       "model_id": "8e585d29a98c41e8855855c555b55f01",
       "version_major": 2,
       "version_minor": 0
      },
      "text/plain": [
       "pytorch_model.bin:   0%|          | 0.00/135M [00:00<?, ?B/s]"
      ]
     },
     "metadata": {},
     "output_type": "display_data"
    },
    {
     "name": "stderr",
     "output_type": "stream",
     "text": [
      "Some weights of AlbertForSequenceClassification were not initialized from the model checkpoint at ai4bharat/indic-bert and are newly initialized: ['classifier.bias', 'classifier.weight']\n",
      "You should probably TRAIN this model on a down-stream task to be able to use it for predictions and inference.\n",
      "/usr/local/lib/python3.10/dist-packages/transformers/optimization.py:591: FutureWarning: This implementation of AdamW is deprecated and will be removed in a future version. Use the PyTorch implementation torch.optim.AdamW instead, or set `no_deprecation_warning=True` to disable this warning\n",
      "  warnings.warn(\n"
     ]
    },
    {
     "name": "stdout",
     "output_type": "stream",
     "text": [
      "Epoch 1\n"
     ]
    },
    {
     "name": "stderr",
     "output_type": "stream",
     "text": [
      "Training: 100%|██████████| 1682/1682 [05:17<00:00,  5.30it/s, loss=0.559]\n",
      "Evaluating: 100%|██████████| 106/106 [00:12<00:00,  8.38it/s]\n"
     ]
    },
    {
     "name": "stdout",
     "output_type": "stream",
     "text": [
      "Train Loss = 0.5673, Val F1 = 0.7758\n",
      "Epoch 2\n"
     ]
    },
    {
     "name": "stderr",
     "output_type": "stream",
     "text": [
      "Training: 100%|██████████| 1682/1682 [05:16<00:00,  5.31it/s, loss=0.365]\n",
      "Evaluating: 100%|██████████| 106/106 [00:12<00:00,  8.41it/s]\n"
     ]
    },
    {
     "name": "stdout",
     "output_type": "stream",
     "text": [
      "Train Loss = 0.4325, Val F1 = 0.7905\n",
      "Epoch 3\n"
     ]
    },
    {
     "name": "stderr",
     "output_type": "stream",
     "text": [
      "Training: 100%|██████████| 1682/1682 [05:16<00:00,  5.32it/s, loss=0.29]\n",
      "Evaluating: 100%|██████████| 106/106 [00:12<00:00,  8.40it/s]\n"
     ]
    },
    {
     "name": "stdout",
     "output_type": "stream",
     "text": [
      "Train Loss = 0.3838, Val F1 = 0.8039\n"
     ]
    }
   ],
   "source": [
    "import torch\n",
    "import torch.nn as nn\n",
    "from transformers import AutoModelForSequenceClassification, AdamW\n",
    "from sklearn.metrics import f1_score\n",
    "from tqdm import tqdm \n",
    "\n",
    "device = torch.device(\"cuda\" if torch.cuda.is_available() else \"cpu\")\n",
    "model = AutoModelForSequenceClassification.from_pretrained(MODEL_NAME, num_labels=2).to(device)\n",
    "\n",
    "optimizer = AdamW(model.parameters(), lr=2e-5)\n",
    "loss_fn = nn.CrossEntropyLoss()\n",
    "\n",
    "def train_epoch(model, loader):\n",
    "    model.train()\n",
    "    total_loss = 0\n",
    "    loop = tqdm(loader, desc=\"Training\")\n",
    "    for batch in loop:\n",
    "        optimizer.zero_grad()\n",
    "        input_ids = batch['input_ids'].to(device)\n",
    "        attention_mask = batch['attention_mask'].to(device)\n",
    "        labels = batch['labels'].to(device)\n",
    "\n",
    "        outputs = model(input_ids, attention_mask=attention_mask, labels=labels)\n",
    "        loss = outputs.loss\n",
    "        loss.backward()\n",
    "        optimizer.step()\n",
    "\n",
    "        total_loss += loss.item()\n",
    "        loop.set_postfix(loss=loss.item())  \n",
    "    return total_loss / len(loader)\n",
    "\n",
    "def eval_model(model, loader):\n",
    "    model.eval()\n",
    "    preds, labels_list = [], []\n",
    "    loop = tqdm(loader, desc=\"Evaluating\")\n",
    "    with torch.no_grad():\n",
    "        for batch in loop:\n",
    "            input_ids = batch['input_ids'].to(device)\n",
    "            attention_mask = batch['attention_mask'].to(device)\n",
    "            labels = batch['labels'].to(device)\n",
    "\n",
    "            outputs = model(input_ids, attention_mask=attention_mask)\n",
    "            logits = outputs.logits\n",
    "            preds.extend(torch.argmax(logits, dim=1).cpu().numpy())\n",
    "            labels_list.extend(labels.cpu().numpy())\n",
    "    f1 = f1_score(labels_list, preds, average='macro')\n",
    "    return f1\n",
    "\n",
    "for epoch in range(3):\n",
    "    print(f\"Epoch {epoch+1}\")\n",
    "    train_loss = train_epoch(model, train_loader)\n",
    "    val_f1 = eval_model(model, val_loader)\n",
    "    print(f\"Train Loss = {train_loss:.4f}, Val F1 = {val_f1:.4f}\")\n",
    "\n",
    "torch.save(model.state_dict(), \"stage1_hate_speech.pth\")\n"
   ]
  },
  {
   "cell_type": "code",
   "execution_count": null,
   "id": "2eb8d898",
   "metadata": {
    "execution": {
     "iopub.execute_input": "2025-03-24T19:38:28.692588Z",
     "iopub.status.busy": "2025-03-24T19:38:28.691556Z",
     "iopub.status.idle": "2025-03-24T19:38:28.698992Z",
     "shell.execute_reply": "2025-03-24T19:38:28.698160Z"
    },
    "papermill": {
     "duration": 0.497101,
     "end_time": "2025-03-24T19:38:28.700447",
     "exception": false,
     "start_time": "2025-03-24T19:38:28.203346",
     "status": "completed"
    },
    "tags": []
   },
   "outputs": [],
   "source": [
    "def data_preprocessing(df, language):\n",
    "    if language == \"tamil\":\n",
    "        annotator_cols = [\"ta_a1\", \"ta_a2\", \"ta_a3\", \"ta_a4\", \"ta_a5\", \"ta_a6\"]\n",
    "    elif language == \"hindi\":\n",
    "        annotator_cols = [\"hi_a1\", \"hi_a2\", \"hi_a3\", \"hi_a4\", \"hi_a5\"]\n",
    "    else:\n",
    "        annotator_cols = [\"en_a1\", \"en_a2\", \"en_a3\", \"en_a4\", \"en_a5\", \"en_a6\"]\n",
    "\n",
    "    df[annotator_cols] = df[annotator_cols].fillna(\"\")\n",
    "    def majority_label(row):\n",
    "        votes = []\n",
    "        for col in annotator_cols:\n",
    "            val = row[col]\n",
    "            try:\n",
    "                if val != \"\":\n",
    "                    num_val = float(val)\n",
    "                    if num_val in [0.0, 1.0]:\n",
    "                        votes.append(int(num_val))\n",
    "            except:\n",
    "                continue  \n",
    "        if not votes:\n",
    "            return 0\n",
    "        return 1 if votes.count(1) > votes.count(0) else 0\n",
    "\n",
    "    # Apply the majority label function\n",
    "    df[\"label\"] = df.apply(majority_label, axis=1)\n",
    "\n",
    "    df[\"label\"] = df[\"label\"].astype(int)\n",
    "\n",
    "    # Drop annotation columns and unnecessary 'key' column\n",
    "    df = df.drop(columns=annotator_cols + [\"key\"])\n",
    "    print(df[\"label\"].value_counts())\n",
    "\n",
    "    return df"
   ]
  },
  {
   "cell_type": "code",
   "execution_count": 9,
   "id": "a72ca042",
   "metadata": {
    "execution": {
     "iopub.execute_input": "2025-03-24T19:38:29.722532Z",
     "iopub.status.busy": "2025-03-24T19:38:29.722063Z",
     "iopub.status.idle": "2025-03-24T19:38:30.022160Z",
     "shell.execute_reply": "2025-03-24T19:38:30.021030Z"
    },
    "papermill": {
     "duration": 0.785929,
     "end_time": "2025-03-24T19:38:30.023409",
     "exception": false,
     "start_time": "2025-03-24T19:38:29.237480",
     "status": "completed"
    },
    "tags": []
   },
   "outputs": [
    {
     "name": "stdout",
     "output_type": "stream",
     "text": [
      "Rows: 6197, Columns: 7\n",
      "label\n",
      "0    4437\n",
      "1    1760\n",
      "Name: count, dtype: int64\n",
      "Rows: 6197, Columns: 2\n"
     ]
    }
   ],
   "source": [
    "df_hindi = pd.read_csv(\"/kaggle/input/subtask2-data/train_hi_l1.csv\")\n",
    "rows, columns = df_hindi.shape\n",
    "print(f\"Rows: {rows}, Columns: {columns}\")\n",
    "hindi_train_gender = data_preprocessing(df_hindi,\"hindi\")\n",
    "hindi_train_gender['text'] = hindi_train_gender['text'].apply(lambda x: normalize_text(x))\n",
    "rows, columns = hindi_train_gender.shape\n",
    "print(f\"Rows: {rows}, Columns: {columns}\")"
   ]
  },
  {
   "cell_type": "code",
   "execution_count": null,
   "id": "2a60a53e",
   "metadata": {
    "execution": {
     "iopub.execute_input": "2025-03-24T19:38:33.132924Z",
     "iopub.status.busy": "2025-03-24T19:38:33.132615Z",
     "iopub.status.idle": "2025-03-24T19:38:33.138802Z",
     "shell.execute_reply": "2025-03-24T19:38:33.137895Z"
    },
    "papermill": {
     "duration": 0.595976,
     "end_time": "2025-03-24T19:38:33.140457",
     "exception": false,
     "start_time": "2025-03-24T19:38:32.544481",
     "status": "completed"
    },
    "tags": []
   },
   "outputs": [],
   "source": [
    "from tqdm import tqdm\n",
    "\n",
    "def train_stage2(model, train_loader, epochs=3):\n",
    "    model.train()\n",
    "    optimizer = AdamW(model.parameters(), lr=2e-5)\n",
    "    for epoch in range(epochs):\n",
    "        total_loss = 0\n",
    "        loop = tqdm(train_loader, desc=f\"Training Stage 2 - Epoch {epoch+1}\")\n",
    "        for batch in loop:\n",
    "            optimizer.zero_grad()\n",
    "            input_ids = batch['input_ids'].to(device)\n",
    "            attention_mask = batch['attention_mask'].to(device)\n",
    "            labels = batch['labels'].to(device)\n",
    "\n",
    "            outputs = model(input_ids, attention_mask=attention_mask, labels=labels)\n",
    "            loss = outputs.loss\n",
    "            loss.backward()\n",
    "            optimizer.step()\n",
    "            total_loss += loss.item()\n",
    "            loop.set_postfix(loss=loss.item())\n",
    "        avg_loss = total_loss / len(train_loader)\n",
    "        print(f\"Epoch {epoch+1}: Train Loss = {avg_loss:.4f}\")\n",
    "\n",
    "\n",
    "    torch.save(model.state_dict(), \"stage2_gendered_abuse.pth\")\n",
    "    print(\"Stage 2 Model Saved: stage2_gendered_abuse.pth\")\n"
   ]
  },
  {
   "cell_type": "code",
   "execution_count": null,
   "id": "008161b6",
   "metadata": {
    "execution": {
     "iopub.execute_input": "2025-03-24T19:38:34.152878Z",
     "iopub.status.busy": "2025-03-24T19:38:34.152572Z",
     "iopub.status.idle": "2025-03-24T19:42:14.307149Z",
     "shell.execute_reply": "2025-03-24T19:42:14.306140Z"
    },
    "papermill": {
     "duration": 220.693532,
     "end_time": "2025-03-24T19:42:14.308915",
     "exception": false,
     "start_time": "2025-03-24T19:38:33.615383",
     "status": "completed"
    },
    "tags": []
   },
   "outputs": [
    {
     "name": "stderr",
     "output_type": "stream",
     "text": [
      "<ipython-input-13-b850e8e0b949>:10: FutureWarning: You are using `torch.load` with `weights_only=False` (the current default value), which uses the default pickle module implicitly. It is possible to construct malicious pickle data which will execute arbitrary code during unpickling (See https://github.com/pytorch/pytorch/blob/main/SECURITY.md#untrusted-models for more details). In a future release, the default value for `weights_only` will be flipped to `True`. This limits the functions that could be executed during unpickling. Arbitrary objects will no longer be allowed to be loaded via this mode unless they are explicitly allowlisted by the user via `torch.serialization.add_safe_globals`. We recommend you start setting `weights_only=True` for any use case where you don't have full control of the loaded file. Please open an issue on GitHub for any issues related to this experimental feature.\n",
      "  model.load_state_dict(torch.load(\"/kaggle/working/stage1_hate_speech.pth\"))\n",
      "/usr/local/lib/python3.10/dist-packages/transformers/optimization.py:591: FutureWarning: This implementation of AdamW is deprecated and will be removed in a future version. Use the PyTorch implementation torch.optim.AdamW instead, or set `no_deprecation_warning=True` to disable this warning\n",
      "  warnings.warn(\n",
      "Training Stage 2 - Epoch 1: 100%|██████████| 388/388 [01:13<00:00,  5.30it/s, loss=0.487]\n"
     ]
    },
    {
     "name": "stdout",
     "output_type": "stream",
     "text": [
      "Epoch 1: Train Loss = 0.5889\n"
     ]
    },
    {
     "name": "stderr",
     "output_type": "stream",
     "text": [
      "Training Stage 2 - Epoch 2: 100%|██████████| 388/388 [01:13<00:00,  5.31it/s, loss=0.298]\n"
     ]
    },
    {
     "name": "stdout",
     "output_type": "stream",
     "text": [
      "Epoch 2: Train Loss = 0.5403\n"
     ]
    },
    {
     "name": "stderr",
     "output_type": "stream",
     "text": [
      "Training Stage 2 - Epoch 3: 100%|██████████| 388/388 [01:13<00:00,  5.31it/s, loss=0.424]\n"
     ]
    },
    {
     "name": "stdout",
     "output_type": "stream",
     "text": [
      "Epoch 3: Train Loss = 0.5006\n",
      "Stage 2 Model Saved: stage2_gendered_abuse.pth\n"
     ]
    }
   ],
   "source": [
    "\n",
    "gendered_train_dataset = TextDataset(hindi_train_gender, tokenizer)\n",
    "gendered_train_loader = DataLoader(gendered_train_dataset, batch_size=16, shuffle=True)\n",
    "\n",
    "model.load_state_dict(torch.load(\"/kaggle/working/stage1_hate_speech.pth\"))\n",
    "\n",
    "train_loss = train_stage2(model, gendered_train_loader)\n",
    "\n",
    "torch.save(model.state_dict(), \"stage2_gendered_abuse.pth\")\n"
   ]
  },
  {
   "cell_type": "code",
   "execution_count": null,
   "id": "cb27a77f",
   "metadata": {
    "execution": {
     "iopub.execute_input": "2025-03-24T19:42:15.538619Z",
     "iopub.status.busy": "2025-03-24T19:42:15.538317Z",
     "iopub.status.idle": "2025-03-24T19:42:15.601471Z",
     "shell.execute_reply": "2025-03-24T19:42:15.600490Z"
    },
    "papermill": {
     "duration": 0.705179,
     "end_time": "2025-03-24T19:42:15.602775",
     "exception": false,
     "start_time": "2025-03-24T19:42:14.897596",
     "status": "completed"
    },
    "tags": []
   },
   "outputs": [
    {
     "name": "stdout",
     "output_type": "stream",
     "text": [
      "Rows: 1517, Columns: 7\n",
      "label\n",
      "0    1159\n",
      "1     358\n",
      "Name: count, dtype: int64\n",
      "Rows: 1517, Columns: 2\n"
     ]
    }
   ],
   "source": [
    "df_hindi_test = pd.read_csv(\"/kaggle/input/subtask2-data/test_hi_l1.csv\", engine='python')\n",
    "rows, columns = df_hindi_test.shape\n",
    "print(f\"Rows: {rows}, Columns: {columns}\")\n",
    "hindi_test_gender = data_preprocessing(df_hindi_test,\"hindi\")\n",
    "rows, columns = hindi_test_gender.shape\n",
    "print(f\"Rows: {rows}, Columns: {columns}\")\n",
    "\n",
    "\n",
    "gendered_test_dataset = TextDataset(hindi_test_gender, tokenizer)\n",
    "gendered_test_loader = DataLoader(gendered_test_dataset, batch_size=16, shuffle=True)\n"
   ]
  },
  {
   "cell_type": "code",
   "execution_count": 15,
   "id": "ac4cceeb",
   "metadata": {
    "execution": {
     "iopub.execute_input": "2025-03-24T19:42:16.842725Z",
     "iopub.status.busy": "2025-03-24T19:42:16.842338Z",
     "iopub.status.idle": "2025-03-24T19:42:17.341812Z",
     "shell.execute_reply": "2025-03-24T19:42:17.340383Z"
    },
    "papermill": {
     "duration": 1.102432,
     "end_time": "2025-03-24T19:42:17.343441",
     "exception": false,
     "start_time": "2025-03-24T19:42:16.241009",
     "status": "completed"
    },
    "tags": []
   },
   "outputs": [
    {
     "name": "stderr",
     "output_type": "stream",
     "text": [
      "Some weights of AlbertForSequenceClassification were not initialized from the model checkpoint at ai4bharat/indic-bert and are newly initialized: ['classifier.bias', 'classifier.weight']\n",
      "You should probably TRAIN this model on a down-stream task to be able to use it for predictions and inference.\n",
      "<ipython-input-15-0f5f36068eb1>:3: FutureWarning: You are using `torch.load` with `weights_only=False` (the current default value), which uses the default pickle module implicitly. It is possible to construct malicious pickle data which will execute arbitrary code during unpickling (See https://github.com/pytorch/pytorch/blob/main/SECURITY.md#untrusted-models for more details). In a future release, the default value for `weights_only` will be flipped to `True`. This limits the functions that could be executed during unpickling. Arbitrary objects will no longer be allowed to be loaded via this mode unless they are explicitly allowlisted by the user via `torch.serialization.add_safe_globals`. We recommend you start setting `weights_only=True` for any use case where you don't have full control of the loaded file. Please open an issue on GitHub for any issues related to this experimental feature.\n",
      "  model.load_state_dict(torch.load(\"stage2_gendered_abuse.pth\"))\n"
     ]
    },
    {
     "data": {
      "text/plain": [
       "AlbertForSequenceClassification(\n",
       "  (albert): AlbertModel(\n",
       "    (embeddings): AlbertEmbeddings(\n",
       "      (word_embeddings): Embedding(200000, 128, padding_idx=0)\n",
       "      (position_embeddings): Embedding(512, 128)\n",
       "      (token_type_embeddings): Embedding(2, 128)\n",
       "      (LayerNorm): LayerNorm((128,), eps=1e-12, elementwise_affine=True)\n",
       "      (dropout): Dropout(p=0, inplace=False)\n",
       "    )\n",
       "    (encoder): AlbertTransformer(\n",
       "      (embedding_hidden_mapping_in): Linear(in_features=128, out_features=768, bias=True)\n",
       "      (albert_layer_groups): ModuleList(\n",
       "        (0): AlbertLayerGroup(\n",
       "          (albert_layers): ModuleList(\n",
       "            (0): AlbertLayer(\n",
       "              (full_layer_layer_norm): LayerNorm((768,), eps=1e-12, elementwise_affine=True)\n",
       "              (attention): AlbertSdpaAttention(\n",
       "                (query): Linear(in_features=768, out_features=768, bias=True)\n",
       "                (key): Linear(in_features=768, out_features=768, bias=True)\n",
       "                (value): Linear(in_features=768, out_features=768, bias=True)\n",
       "                (attention_dropout): Dropout(p=0, inplace=False)\n",
       "                (output_dropout): Dropout(p=0, inplace=False)\n",
       "                (dense): Linear(in_features=768, out_features=768, bias=True)\n",
       "                (LayerNorm): LayerNorm((768,), eps=1e-12, elementwise_affine=True)\n",
       "              )\n",
       "              (ffn): Linear(in_features=768, out_features=3072, bias=True)\n",
       "              (ffn_output): Linear(in_features=3072, out_features=768, bias=True)\n",
       "              (activation): GELUActivation()\n",
       "              (dropout): Dropout(p=0, inplace=False)\n",
       "            )\n",
       "          )\n",
       "        )\n",
       "      )\n",
       "    )\n",
       "    (pooler): Linear(in_features=768, out_features=768, bias=True)\n",
       "    (pooler_activation): Tanh()\n",
       "  )\n",
       "  (dropout): Dropout(p=0.1, inplace=False)\n",
       "  (classifier): Linear(in_features=768, out_features=2, bias=True)\n",
       ")"
      ]
     },
     "execution_count": 15,
     "metadata": {},
     "output_type": "execute_result"
    }
   ],
   "source": [
    "model = AutoModelForSequenceClassification.from_pretrained(MODEL_NAME, num_labels=2).to(device)\n",
    "\n",
    "model.load_state_dict(torch.load(\"stage2_gendered_abuse.pth\"))\n",
    "model.eval()"
   ]
  },
  {
   "cell_type": "code",
   "execution_count": 16,
   "id": "e6f7b580",
   "metadata": {
    "execution": {
     "iopub.execute_input": "2025-03-24T19:42:18.585405Z",
     "iopub.status.busy": "2025-03-24T19:42:18.584865Z",
     "iopub.status.idle": "2025-03-24T19:42:24.633277Z",
     "shell.execute_reply": "2025-03-24T19:42:24.632296Z"
    },
    "papermill": {
     "duration": 6.690284,
     "end_time": "2025-03-24T19:42:24.634598",
     "exception": false,
     "start_time": "2025-03-24T19:42:17.944314",
     "status": "completed"
    },
    "tags": []
   },
   "outputs": [
    {
     "name": "stderr",
     "output_type": "stream",
     "text": [
      "                                                                          \r"
     ]
    },
    {
     "name": "stdout",
     "output_type": "stream",
     "text": [
      "\n",
      "Test F1 Score (Macro): 0.6718\n",
      "\n",
      "Classification Report:\n",
      "               precision    recall  f1-score   support\n",
      "\n",
      "           0     0.8422    0.8568    0.8494      1159\n",
      "           1     0.5089    0.4804    0.4943       358\n",
      "\n",
      "    accuracy                         0.7680      1517\n",
      "   macro avg     0.6756    0.6686    0.6718      1517\n",
      "weighted avg     0.7636    0.7680    0.7656      1517\n",
      "\n",
      "Final Gendered Abuse Test F1 Score (Macro): 0.6718\n"
     ]
    }
   ],
   "source": [
    "from sklearn.metrics import f1_score, classification_report\n",
    "from tqdm import tqdm\n",
    "\n",
    "def inference_on_gendered_abuse_test(model, test_loader):\n",
    "    model.eval()\n",
    "    all_preds = []\n",
    "    all_labels = []\n",
    "    with torch.no_grad():\n",
    "        for batch in tqdm(test_loader, desc=\"Testing on Gendered Abuse\", leave=False):\n",
    "            input_ids = batch['input_ids'].to(device)\n",
    "            attention_mask = batch['attention_mask'].to(device)\n",
    "            labels = batch['labels'].to(device)\n",
    "\n",
    "            outputs = model(input_ids, attention_mask=attention_mask)\n",
    "            logits = outputs.logits\n",
    "            preds = torch.argmax(logits, dim=1)\n",
    "\n",
    "            all_preds.extend(preds.cpu().numpy())\n",
    "            all_labels.extend(labels.cpu().numpy())\n",
    "\n",
    "    # F1 Score (Macro)\n",
    "    f1_macro = f1_score(all_labels, all_preds, average='macro')\n",
    "    print(f\"\\nTest F1 Score (Macro): {f1_macro:.4f}\")\n",
    "    print(\"\\nClassification Report:\\n\", classification_report(all_labels, all_preds, digits=4))\n",
    "    return f1_macro\n",
    "\n",
    "f1_macro_test = inference_on_gendered_abuse_test(model, gendered_test_loader)\n",
    "print(f\"Final Gendered Abuse Test F1 Score (Macro): {f1_macro_test:.4f}\")"
   ]
  }
 ],
 "metadata": {
  "kaggle": {
   "accelerator": "gpu",
   "dataSources": [
    {
     "datasetId": 6957969,
     "sourceId": 11152256,
     "sourceType": "datasetVersion"
    },
    {
     "datasetId": 6958017,
     "sourceId": 11152320,
     "sourceType": "datasetVersion"
    }
   ],
   "dockerImageVersionId": 30919,
   "isGpuEnabled": true,
   "isInternetEnabled": true,
   "language": "python",
   "sourceType": "notebook"
  },
  "kernelspec": {
   "display_name": "Python 3",
   "language": "python",
   "name": "python3"
  },
  "language_info": {
   "codemirror_mode": {
    "name": "ipython",
    "version": 3
   },
   "file_extension": ".py",
   "mimetype": "text/x-python",
   "name": "python",
   "nbconvert_exporter": "python",
   "pygments_lexer": "ipython3",
   "version": "3.10.12"
  },
  "papermill": {
   "default_parameters": {},
   "duration": 1269.915881,
   "end_time": "2025-03-24T19:42:36.700880",
   "environment_variables": {},
   "exception": null,
   "input_path": "__notebook__.ipynb",
   "output_path": "__notebook__.ipynb",
   "parameters": {},
   "start_time": "2025-03-24T19:21:26.784999",
   "version": "2.6.0"
  },
  "widgets": {
   "application/vnd.jupyter.widget-state+json": {
    "state": {
     "03e376922b9d4a46adc89b496c94a1fc": {
      "model_module": "@jupyter-widgets/controls",
      "model_module_version": "2.0.0",
      "model_name": "ProgressStyleModel",
      "state": {
       "_model_module": "@jupyter-widgets/controls",
       "_model_module_version": "2.0.0",
       "_model_name": "ProgressStyleModel",
       "_view_count": null,
       "_view_module": "@jupyter-widgets/base",
       "_view_module_version": "2.0.0",
       "_view_name": "StyleView",
       "bar_color": null,
       "description_width": ""
      }
     },
     "0fe6277a1943483281d8a87adae11d25": {
      "model_module": "@jupyter-widgets/controls",
      "model_module_version": "2.0.0",
      "model_name": "HTMLModel",
      "state": {
       "_dom_classes": [],
       "_model_module": "@jupyter-widgets/controls",
       "_model_module_version": "2.0.0",
       "_model_name": "HTMLModel",
       "_view_count": null,
       "_view_module": "@jupyter-widgets/controls",
       "_view_module_version": "2.0.0",
       "_view_name": "HTMLView",
       "description": "",
       "description_allow_html": false,
       "layout": "IPY_MODEL_8d2a843c27ff453a95e25533e56d1010",
       "placeholder": "​",
       "style": "IPY_MODEL_b8a50ed2962046f6a796b42b004a5f6f",
       "tabbable": null,
       "tooltip": null,
       "value": "pytorch_model.bin: 100%"
      }
     },
     "106bdffb1b4b46e89793df43046196d1": {
      "model_module": "@jupyter-widgets/base",
      "model_module_version": "2.0.0",
      "model_name": "LayoutModel",
      "state": {
       "_model_module": "@jupyter-widgets/base",
       "_model_module_version": "2.0.0",
       "_model_name": "LayoutModel",
       "_view_count": null,
       "_view_module": "@jupyter-widgets/base",
       "_view_module_version": "2.0.0",
       "_view_name": "LayoutView",
       "align_content": null,
       "align_items": null,
       "align_self": null,
       "border_bottom": null,
       "border_left": null,
       "border_right": null,
       "border_top": null,
       "bottom": null,
       "display": null,
       "flex": null,
       "flex_flow": null,
       "grid_area": null,
       "grid_auto_columns": null,
       "grid_auto_flow": null,
       "grid_auto_rows": null,
       "grid_column": null,
       "grid_gap": null,
       "grid_row": null,
       "grid_template_areas": null,
       "grid_template_columns": null,
       "grid_template_rows": null,
       "height": null,
       "justify_content": null,
       "justify_items": null,
       "left": null,
       "margin": null,
       "max_height": null,
       "max_width": null,
       "min_height": null,
       "min_width": null,
       "object_fit": null,
       "object_position": null,
       "order": null,
       "overflow": null,
       "padding": null,
       "right": null,
       "top": null,
       "visibility": null,
       "width": null
      }
     },
     "1a66aa11d8f646e099b630369a9d4bec": {
      "model_module": "@jupyter-widgets/controls",
      "model_module_version": "2.0.0",
      "model_name": "FloatProgressModel",
      "state": {
       "_dom_classes": [],
       "_model_module": "@jupyter-widgets/controls",
       "_model_module_version": "2.0.0",
       "_model_name": "FloatProgressModel",
       "_view_count": null,
       "_view_module": "@jupyter-widgets/controls",
       "_view_module_version": "2.0.0",
       "_view_name": "ProgressView",
       "bar_style": "success",
       "description": "",
       "description_allow_html": false,
       "layout": "IPY_MODEL_8809c3fb90c144c3aad6ebbd8ef48184",
       "max": 5646064,
       "min": 0,
       "orientation": "horizontal",
       "style": "IPY_MODEL_03e376922b9d4a46adc89b496c94a1fc",
       "tabbable": null,
       "tooltip": null,
       "value": 5646064
      }
     },
     "3de608b88f0c48eaad77d4e3ac3c3d88": {
      "model_module": "@jupyter-widgets/base",
      "model_module_version": "2.0.0",
      "model_name": "LayoutModel",
      "state": {
       "_model_module": "@jupyter-widgets/base",
       "_model_module_version": "2.0.0",
       "_model_name": "LayoutModel",
       "_view_count": null,
       "_view_module": "@jupyter-widgets/base",
       "_view_module_version": "2.0.0",
       "_view_name": "LayoutView",
       "align_content": null,
       "align_items": null,
       "align_self": null,
       "border_bottom": null,
       "border_left": null,
       "border_right": null,
       "border_top": null,
       "bottom": null,
       "display": null,
       "flex": null,
       "flex_flow": null,
       "grid_area": null,
       "grid_auto_columns": null,
       "grid_auto_flow": null,
       "grid_auto_rows": null,
       "grid_column": null,
       "grid_gap": null,
       "grid_row": null,
       "grid_template_areas": null,
       "grid_template_columns": null,
       "grid_template_rows": null,
       "height": null,
       "justify_content": null,
       "justify_items": null,
       "left": null,
       "margin": null,
       "max_height": null,
       "max_width": null,
       "min_height": null,
       "min_width": null,
       "object_fit": null,
       "object_position": null,
       "order": null,
       "overflow": null,
       "padding": null,
       "right": null,
       "top": null,
       "visibility": null,
       "width": null
      }
     },
     "41b35ce1f617434aa3a2cb3575c4d2f6": {
      "model_module": "@jupyter-widgets/controls",
      "model_module_version": "2.0.0",
      "model_name": "HTMLModel",
      "state": {
       "_dom_classes": [],
       "_model_module": "@jupyter-widgets/controls",
       "_model_module_version": "2.0.0",
       "_model_name": "HTMLModel",
       "_view_count": null,
       "_view_module": "@jupyter-widgets/controls",
       "_view_module_version": "2.0.0",
       "_view_name": "HTMLView",
       "description": "",
       "description_allow_html": false,
       "layout": "IPY_MODEL_81eb7e75565047d686cf130b7892cafe",
       "placeholder": "​",
       "style": "IPY_MODEL_ea62665d3d3a4f9da3fd37fc2f72d92a",
       "tabbable": null,
       "tooltip": null,
       "value": " 5.65M/5.65M [00:00&lt;00:00, 52.8MB/s]"
      }
     },
     "4bf3d1a55ab1437a80ec858ca49d9656": {
      "model_module": "@jupyter-widgets/base",
      "model_module_version": "2.0.0",
      "model_name": "LayoutModel",
      "state": {
       "_model_module": "@jupyter-widgets/base",
       "_model_module_version": "2.0.0",
       "_model_name": "LayoutModel",
       "_view_count": null,
       "_view_module": "@jupyter-widgets/base",
       "_view_module_version": "2.0.0",
       "_view_name": "LayoutView",
       "align_content": null,
       "align_items": null,
       "align_self": null,
       "border_bottom": null,
       "border_left": null,
       "border_right": null,
       "border_top": null,
       "bottom": null,
       "display": null,
       "flex": null,
       "flex_flow": null,
       "grid_area": null,
       "grid_auto_columns": null,
       "grid_auto_flow": null,
       "grid_auto_rows": null,
       "grid_column": null,
       "grid_gap": null,
       "grid_row": null,
       "grid_template_areas": null,
       "grid_template_columns": null,
       "grid_template_rows": null,
       "height": null,
       "justify_content": null,
       "justify_items": null,
       "left": null,
       "margin": null,
       "max_height": null,
       "max_width": null,
       "min_height": null,
       "min_width": null,
       "object_fit": null,
       "object_position": null,
       "order": null,
       "overflow": null,
       "padding": null,
       "right": null,
       "top": null,
       "visibility": null,
       "width": null
      }
     },
     "4e1bfb83176645e28795fd07aea6a688": {
      "model_module": "@jupyter-widgets/base",
      "model_module_version": "2.0.0",
      "model_name": "LayoutModel",
      "state": {
       "_model_module": "@jupyter-widgets/base",
       "_model_module_version": "2.0.0",
       "_model_name": "LayoutModel",
       "_view_count": null,
       "_view_module": "@jupyter-widgets/base",
       "_view_module_version": "2.0.0",
       "_view_name": "LayoutView",
       "align_content": null,
       "align_items": null,
       "align_self": null,
       "border_bottom": null,
       "border_left": null,
       "border_right": null,
       "border_top": null,
       "bottom": null,
       "display": null,
       "flex": null,
       "flex_flow": null,
       "grid_area": null,
       "grid_auto_columns": null,
       "grid_auto_flow": null,
       "grid_auto_rows": null,
       "grid_column": null,
       "grid_gap": null,
       "grid_row": null,
       "grid_template_areas": null,
       "grid_template_columns": null,
       "grid_template_rows": null,
       "height": null,
       "justify_content": null,
       "justify_items": null,
       "left": null,
       "margin": null,
       "max_height": null,
       "max_width": null,
       "min_height": null,
       "min_width": null,
       "object_fit": null,
       "object_position": null,
       "order": null,
       "overflow": null,
       "padding": null,
       "right": null,
       "top": null,
       "visibility": null,
       "width": null
      }
     },
     "5514cf3b0ead4128912caa800e595434": {
      "model_module": "@jupyter-widgets/base",
      "model_module_version": "2.0.0",
      "model_name": "LayoutModel",
      "state": {
       "_model_module": "@jupyter-widgets/base",
       "_model_module_version": "2.0.0",
       "_model_name": "LayoutModel",
       "_view_count": null,
       "_view_module": "@jupyter-widgets/base",
       "_view_module_version": "2.0.0",
       "_view_name": "LayoutView",
       "align_content": null,
       "align_items": null,
       "align_self": null,
       "border_bottom": null,
       "border_left": null,
       "border_right": null,
       "border_top": null,
       "bottom": null,
       "display": null,
       "flex": null,
       "flex_flow": null,
       "grid_area": null,
       "grid_auto_columns": null,
       "grid_auto_flow": null,
       "grid_auto_rows": null,
       "grid_column": null,
       "grid_gap": null,
       "grid_row": null,
       "grid_template_areas": null,
       "grid_template_columns": null,
       "grid_template_rows": null,
       "height": null,
       "justify_content": null,
       "justify_items": null,
       "left": null,
       "margin": null,
       "max_height": null,
       "max_width": null,
       "min_height": null,
       "min_width": null,
       "object_fit": null,
       "object_position": null,
       "order": null,
       "overflow": null,
       "padding": null,
       "right": null,
       "top": null,
       "visibility": null,
       "width": null
      }
     },
     "55b6fbbaf7314382a1f1c16fec2892cf": {
      "model_module": "@jupyter-widgets/controls",
      "model_module_version": "2.0.0",
      "model_name": "HTMLModel",
      "state": {
       "_dom_classes": [],
       "_model_module": "@jupyter-widgets/controls",
       "_model_module_version": "2.0.0",
       "_model_name": "HTMLModel",
       "_view_count": null,
       "_view_module": "@jupyter-widgets/controls",
       "_view_module_version": "2.0.0",
       "_view_name": "HTMLView",
       "description": "",
       "description_allow_html": false,
       "layout": "IPY_MODEL_5514cf3b0ead4128912caa800e595434",
       "placeholder": "​",
       "style": "IPY_MODEL_93fbdc5d7ddb4348893c81e4f456c07d",
       "tabbable": null,
       "tooltip": null,
       "value": "config.json: 100%"
      }
     },
     "58766f819a4446da9f0b4f684e9f93c4": {
      "model_module": "@jupyter-widgets/controls",
      "model_module_version": "2.0.0",
      "model_name": "FloatProgressModel",
      "state": {
       "_dom_classes": [],
       "_model_module": "@jupyter-widgets/controls",
       "_model_module_version": "2.0.0",
       "_model_name": "FloatProgressModel",
       "_view_count": null,
       "_view_module": "@jupyter-widgets/controls",
       "_view_module_version": "2.0.0",
       "_view_name": "ProgressView",
       "bar_style": "success",
       "description": "",
       "description_allow_html": false,
       "layout": "IPY_MODEL_4e1bfb83176645e28795fd07aea6a688",
       "max": 134982446,
       "min": 0,
       "orientation": "horizontal",
       "style": "IPY_MODEL_9cfad731e309400f9a15a94481076c07",
       "tabbable": null,
       "tooltip": null,
       "value": 134982446
      }
     },
     "5d5334aed3f84f218acb2f25a17bea71": {
      "model_module": "@jupyter-widgets/controls",
      "model_module_version": "2.0.0",
      "model_name": "HTMLModel",
      "state": {
       "_dom_classes": [],
       "_model_module": "@jupyter-widgets/controls",
       "_model_module_version": "2.0.0",
       "_model_name": "HTMLModel",
       "_view_count": null,
       "_view_module": "@jupyter-widgets/controls",
       "_view_module_version": "2.0.0",
       "_view_name": "HTMLView",
       "description": "",
       "description_allow_html": false,
       "layout": "IPY_MODEL_4bf3d1a55ab1437a80ec858ca49d9656",
       "placeholder": "​",
       "style": "IPY_MODEL_9756e2785e454d7cb3b134a89e52a5f7",
       "tabbable": null,
       "tooltip": null,
       "value": " 135M/135M [00:00&lt;00:00, 234MB/s]"
      }
     },
     "5f7ea2e60b364d19980692371bf480a5": {
      "model_module": "@jupyter-widgets/controls",
      "model_module_version": "2.0.0",
      "model_name": "HTMLModel",
      "state": {
       "_dom_classes": [],
       "_model_module": "@jupyter-widgets/controls",
       "_model_module_version": "2.0.0",
       "_model_name": "HTMLModel",
       "_view_count": null,
       "_view_module": "@jupyter-widgets/controls",
       "_view_module_version": "2.0.0",
       "_view_name": "HTMLView",
       "description": "",
       "description_allow_html": false,
       "layout": "IPY_MODEL_6d52ebe7797f4d56a07332b15d6a6773",
       "placeholder": "​",
       "style": "IPY_MODEL_a834b700409e4eafa81eeaf34bbbb29b",
       "tabbable": null,
       "tooltip": null,
       "value": "spiece.model: 100%"
      }
     },
     "6d52ebe7797f4d56a07332b15d6a6773": {
      "model_module": "@jupyter-widgets/base",
      "model_module_version": "2.0.0",
      "model_name": "LayoutModel",
      "state": {
       "_model_module": "@jupyter-widgets/base",
       "_model_module_version": "2.0.0",
       "_model_name": "LayoutModel",
       "_view_count": null,
       "_view_module": "@jupyter-widgets/base",
       "_view_module_version": "2.0.0",
       "_view_name": "LayoutView",
       "align_content": null,
       "align_items": null,
       "align_self": null,
       "border_bottom": null,
       "border_left": null,
       "border_right": null,
       "border_top": null,
       "bottom": null,
       "display": null,
       "flex": null,
       "flex_flow": null,
       "grid_area": null,
       "grid_auto_columns": null,
       "grid_auto_flow": null,
       "grid_auto_rows": null,
       "grid_column": null,
       "grid_gap": null,
       "grid_row": null,
       "grid_template_areas": null,
       "grid_template_columns": null,
       "grid_template_rows": null,
       "height": null,
       "justify_content": null,
       "justify_items": null,
       "left": null,
       "margin": null,
       "max_height": null,
       "max_width": null,
       "min_height": null,
       "min_width": null,
       "object_fit": null,
       "object_position": null,
       "order": null,
       "overflow": null,
       "padding": null,
       "right": null,
       "top": null,
       "visibility": null,
       "width": null
      }
     },
     "6eff8ce64756430ea7797e9cd7ead1b4": {
      "model_module": "@jupyter-widgets/base",
      "model_module_version": "2.0.0",
      "model_name": "LayoutModel",
      "state": {
       "_model_module": "@jupyter-widgets/base",
       "_model_module_version": "2.0.0",
       "_model_name": "LayoutModel",
       "_view_count": null,
       "_view_module": "@jupyter-widgets/base",
       "_view_module_version": "2.0.0",
       "_view_name": "LayoutView",
       "align_content": null,
       "align_items": null,
       "align_self": null,
       "border_bottom": null,
       "border_left": null,
       "border_right": null,
       "border_top": null,
       "bottom": null,
       "display": null,
       "flex": null,
       "flex_flow": null,
       "grid_area": null,
       "grid_auto_columns": null,
       "grid_auto_flow": null,
       "grid_auto_rows": null,
       "grid_column": null,
       "grid_gap": null,
       "grid_row": null,
       "grid_template_areas": null,
       "grid_template_columns": null,
       "grid_template_rows": null,
       "height": null,
       "justify_content": null,
       "justify_items": null,
       "left": null,
       "margin": null,
       "max_height": null,
       "max_width": null,
       "min_height": null,
       "min_width": null,
       "object_fit": null,
       "object_position": null,
       "order": null,
       "overflow": null,
       "padding": null,
       "right": null,
       "top": null,
       "visibility": null,
       "width": null
      }
     },
     "70d5da7405ba465491aff234e0a415b5": {
      "model_module": "@jupyter-widgets/controls",
      "model_module_version": "2.0.0",
      "model_name": "HBoxModel",
      "state": {
       "_dom_classes": [],
       "_model_module": "@jupyter-widgets/controls",
       "_model_module_version": "2.0.0",
       "_model_name": "HBoxModel",
       "_view_count": null,
       "_view_module": "@jupyter-widgets/controls",
       "_view_module_version": "2.0.0",
       "_view_name": "HBoxView",
       "box_style": "",
       "children": [
        "IPY_MODEL_55b6fbbaf7314382a1f1c16fec2892cf",
        "IPY_MODEL_906fd8b591f84f46875f4d428db208c7",
        "IPY_MODEL_f2ff8c96e82149d1938165a3c060844b"
       ],
       "layout": "IPY_MODEL_6eff8ce64756430ea7797e9cd7ead1b4",
       "tabbable": null,
       "tooltip": null
      }
     },
     "7e7357246471444a9be440ee8ad537e6": {
      "model_module": "@jupyter-widgets/base",
      "model_module_version": "2.0.0",
      "model_name": "LayoutModel",
      "state": {
       "_model_module": "@jupyter-widgets/base",
       "_model_module_version": "2.0.0",
       "_model_name": "LayoutModel",
       "_view_count": null,
       "_view_module": "@jupyter-widgets/base",
       "_view_module_version": "2.0.0",
       "_view_name": "LayoutView",
       "align_content": null,
       "align_items": null,
       "align_self": null,
       "border_bottom": null,
       "border_left": null,
       "border_right": null,
       "border_top": null,
       "bottom": null,
       "display": null,
       "flex": null,
       "flex_flow": null,
       "grid_area": null,
       "grid_auto_columns": null,
       "grid_auto_flow": null,
       "grid_auto_rows": null,
       "grid_column": null,
       "grid_gap": null,
       "grid_row": null,
       "grid_template_areas": null,
       "grid_template_columns": null,
       "grid_template_rows": null,
       "height": null,
       "justify_content": null,
       "justify_items": null,
       "left": null,
       "margin": null,
       "max_height": null,
       "max_width": null,
       "min_height": null,
       "min_width": null,
       "object_fit": null,
       "object_position": null,
       "order": null,
       "overflow": null,
       "padding": null,
       "right": null,
       "top": null,
       "visibility": null,
       "width": null
      }
     },
     "81eb7e75565047d686cf130b7892cafe": {
      "model_module": "@jupyter-widgets/base",
      "model_module_version": "2.0.0",
      "model_name": "LayoutModel",
      "state": {
       "_model_module": "@jupyter-widgets/base",
       "_model_module_version": "2.0.0",
       "_model_name": "LayoutModel",
       "_view_count": null,
       "_view_module": "@jupyter-widgets/base",
       "_view_module_version": "2.0.0",
       "_view_name": "LayoutView",
       "align_content": null,
       "align_items": null,
       "align_self": null,
       "border_bottom": null,
       "border_left": null,
       "border_right": null,
       "border_top": null,
       "bottom": null,
       "display": null,
       "flex": null,
       "flex_flow": null,
       "grid_area": null,
       "grid_auto_columns": null,
       "grid_auto_flow": null,
       "grid_auto_rows": null,
       "grid_column": null,
       "grid_gap": null,
       "grid_row": null,
       "grid_template_areas": null,
       "grid_template_columns": null,
       "grid_template_rows": null,
       "height": null,
       "justify_content": null,
       "justify_items": null,
       "left": null,
       "margin": null,
       "max_height": null,
       "max_width": null,
       "min_height": null,
       "min_width": null,
       "object_fit": null,
       "object_position": null,
       "order": null,
       "overflow": null,
       "padding": null,
       "right": null,
       "top": null,
       "visibility": null,
       "width": null
      }
     },
     "8809c3fb90c144c3aad6ebbd8ef48184": {
      "model_module": "@jupyter-widgets/base",
      "model_module_version": "2.0.0",
      "model_name": "LayoutModel",
      "state": {
       "_model_module": "@jupyter-widgets/base",
       "_model_module_version": "2.0.0",
       "_model_name": "LayoutModel",
       "_view_count": null,
       "_view_module": "@jupyter-widgets/base",
       "_view_module_version": "2.0.0",
       "_view_name": "LayoutView",
       "align_content": null,
       "align_items": null,
       "align_self": null,
       "border_bottom": null,
       "border_left": null,
       "border_right": null,
       "border_top": null,
       "bottom": null,
       "display": null,
       "flex": null,
       "flex_flow": null,
       "grid_area": null,
       "grid_auto_columns": null,
       "grid_auto_flow": null,
       "grid_auto_rows": null,
       "grid_column": null,
       "grid_gap": null,
       "grid_row": null,
       "grid_template_areas": null,
       "grid_template_columns": null,
       "grid_template_rows": null,
       "height": null,
       "justify_content": null,
       "justify_items": null,
       "left": null,
       "margin": null,
       "max_height": null,
       "max_width": null,
       "min_height": null,
       "min_width": null,
       "object_fit": null,
       "object_position": null,
       "order": null,
       "overflow": null,
       "padding": null,
       "right": null,
       "top": null,
       "visibility": null,
       "width": null
      }
     },
     "8d2a843c27ff453a95e25533e56d1010": {
      "model_module": "@jupyter-widgets/base",
      "model_module_version": "2.0.0",
      "model_name": "LayoutModel",
      "state": {
       "_model_module": "@jupyter-widgets/base",
       "_model_module_version": "2.0.0",
       "_model_name": "LayoutModel",
       "_view_count": null,
       "_view_module": "@jupyter-widgets/base",
       "_view_module_version": "2.0.0",
       "_view_name": "LayoutView",
       "align_content": null,
       "align_items": null,
       "align_self": null,
       "border_bottom": null,
       "border_left": null,
       "border_right": null,
       "border_top": null,
       "bottom": null,
       "display": null,
       "flex": null,
       "flex_flow": null,
       "grid_area": null,
       "grid_auto_columns": null,
       "grid_auto_flow": null,
       "grid_auto_rows": null,
       "grid_column": null,
       "grid_gap": null,
       "grid_row": null,
       "grid_template_areas": null,
       "grid_template_columns": null,
       "grid_template_rows": null,
       "height": null,
       "justify_content": null,
       "justify_items": null,
       "left": null,
       "margin": null,
       "max_height": null,
       "max_width": null,
       "min_height": null,
       "min_width": null,
       "object_fit": null,
       "object_position": null,
       "order": null,
       "overflow": null,
       "padding": null,
       "right": null,
       "top": null,
       "visibility": null,
       "width": null
      }
     },
     "8e585d29a98c41e8855855c555b55f01": {
      "model_module": "@jupyter-widgets/controls",
      "model_module_version": "2.0.0",
      "model_name": "HBoxModel",
      "state": {
       "_dom_classes": [],
       "_model_module": "@jupyter-widgets/controls",
       "_model_module_version": "2.0.0",
       "_model_name": "HBoxModel",
       "_view_count": null,
       "_view_module": "@jupyter-widgets/controls",
       "_view_module_version": "2.0.0",
       "_view_name": "HBoxView",
       "box_style": "",
       "children": [
        "IPY_MODEL_0fe6277a1943483281d8a87adae11d25",
        "IPY_MODEL_58766f819a4446da9f0b4f684e9f93c4",
        "IPY_MODEL_5d5334aed3f84f218acb2f25a17bea71"
       ],
       "layout": "IPY_MODEL_a23d1b9688d24a8e83f2e9b61797e2dc",
       "tabbable": null,
       "tooltip": null
      }
     },
     "906fd8b591f84f46875f4d428db208c7": {
      "model_module": "@jupyter-widgets/controls",
      "model_module_version": "2.0.0",
      "model_name": "FloatProgressModel",
      "state": {
       "_dom_classes": [],
       "_model_module": "@jupyter-widgets/controls",
       "_model_module_version": "2.0.0",
       "_model_name": "FloatProgressModel",
       "_view_count": null,
       "_view_module": "@jupyter-widgets/controls",
       "_view_module_version": "2.0.0",
       "_view_name": "ProgressView",
       "bar_style": "success",
       "description": "",
       "description_allow_html": false,
       "layout": "IPY_MODEL_3de608b88f0c48eaad77d4e3ac3c3d88",
       "max": 507,
       "min": 0,
       "orientation": "horizontal",
       "style": "IPY_MODEL_b37f0128dccc414d9a35513133d12c6a",
       "tabbable": null,
       "tooltip": null,
       "value": 507
      }
     },
     "93fbdc5d7ddb4348893c81e4f456c07d": {
      "model_module": "@jupyter-widgets/controls",
      "model_module_version": "2.0.0",
      "model_name": "HTMLStyleModel",
      "state": {
       "_model_module": "@jupyter-widgets/controls",
       "_model_module_version": "2.0.0",
       "_model_name": "HTMLStyleModel",
       "_view_count": null,
       "_view_module": "@jupyter-widgets/base",
       "_view_module_version": "2.0.0",
       "_view_name": "StyleView",
       "background": null,
       "description_width": "",
       "font_size": null,
       "text_color": null
      }
     },
     "963ebaa2393d447eaa828ec238dd9f1d": {
      "model_module": "@jupyter-widgets/controls",
      "model_module_version": "2.0.0",
      "model_name": "HTMLStyleModel",
      "state": {
       "_model_module": "@jupyter-widgets/controls",
       "_model_module_version": "2.0.0",
       "_model_name": "HTMLStyleModel",
       "_view_count": null,
       "_view_module": "@jupyter-widgets/base",
       "_view_module_version": "2.0.0",
       "_view_name": "StyleView",
       "background": null,
       "description_width": "",
       "font_size": null,
       "text_color": null
      }
     },
     "9756e2785e454d7cb3b134a89e52a5f7": {
      "model_module": "@jupyter-widgets/controls",
      "model_module_version": "2.0.0",
      "model_name": "HTMLStyleModel",
      "state": {
       "_model_module": "@jupyter-widgets/controls",
       "_model_module_version": "2.0.0",
       "_model_name": "HTMLStyleModel",
       "_view_count": null,
       "_view_module": "@jupyter-widgets/base",
       "_view_module_version": "2.0.0",
       "_view_name": "StyleView",
       "background": null,
       "description_width": "",
       "font_size": null,
       "text_color": null
      }
     },
     "9cfad731e309400f9a15a94481076c07": {
      "model_module": "@jupyter-widgets/controls",
      "model_module_version": "2.0.0",
      "model_name": "ProgressStyleModel",
      "state": {
       "_model_module": "@jupyter-widgets/controls",
       "_model_module_version": "2.0.0",
       "_model_name": "ProgressStyleModel",
       "_view_count": null,
       "_view_module": "@jupyter-widgets/base",
       "_view_module_version": "2.0.0",
       "_view_name": "StyleView",
       "bar_color": null,
       "description_width": ""
      }
     },
     "a15b6c4cd6a348f4bac64b4ef6a8167d": {
      "model_module": "@jupyter-widgets/controls",
      "model_module_version": "2.0.0",
      "model_name": "HBoxModel",
      "state": {
       "_dom_classes": [],
       "_model_module": "@jupyter-widgets/controls",
       "_model_module_version": "2.0.0",
       "_model_name": "HBoxModel",
       "_view_count": null,
       "_view_module": "@jupyter-widgets/controls",
       "_view_module_version": "2.0.0",
       "_view_name": "HBoxView",
       "box_style": "",
       "children": [
        "IPY_MODEL_5f7ea2e60b364d19980692371bf480a5",
        "IPY_MODEL_1a66aa11d8f646e099b630369a9d4bec",
        "IPY_MODEL_41b35ce1f617434aa3a2cb3575c4d2f6"
       ],
       "layout": "IPY_MODEL_7e7357246471444a9be440ee8ad537e6",
       "tabbable": null,
       "tooltip": null
      }
     },
     "a23d1b9688d24a8e83f2e9b61797e2dc": {
      "model_module": "@jupyter-widgets/base",
      "model_module_version": "2.0.0",
      "model_name": "LayoutModel",
      "state": {
       "_model_module": "@jupyter-widgets/base",
       "_model_module_version": "2.0.0",
       "_model_name": "LayoutModel",
       "_view_count": null,
       "_view_module": "@jupyter-widgets/base",
       "_view_module_version": "2.0.0",
       "_view_name": "LayoutView",
       "align_content": null,
       "align_items": null,
       "align_self": null,
       "border_bottom": null,
       "border_left": null,
       "border_right": null,
       "border_top": null,
       "bottom": null,
       "display": null,
       "flex": null,
       "flex_flow": null,
       "grid_area": null,
       "grid_auto_columns": null,
       "grid_auto_flow": null,
       "grid_auto_rows": null,
       "grid_column": null,
       "grid_gap": null,
       "grid_row": null,
       "grid_template_areas": null,
       "grid_template_columns": null,
       "grid_template_rows": null,
       "height": null,
       "justify_content": null,
       "justify_items": null,
       "left": null,
       "margin": null,
       "max_height": null,
       "max_width": null,
       "min_height": null,
       "min_width": null,
       "object_fit": null,
       "object_position": null,
       "order": null,
       "overflow": null,
       "padding": null,
       "right": null,
       "top": null,
       "visibility": null,
       "width": null
      }
     },
     "a834b700409e4eafa81eeaf34bbbb29b": {
      "model_module": "@jupyter-widgets/controls",
      "model_module_version": "2.0.0",
      "model_name": "HTMLStyleModel",
      "state": {
       "_model_module": "@jupyter-widgets/controls",
       "_model_module_version": "2.0.0",
       "_model_name": "HTMLStyleModel",
       "_view_count": null,
       "_view_module": "@jupyter-widgets/base",
       "_view_module_version": "2.0.0",
       "_view_name": "StyleView",
       "background": null,
       "description_width": "",
       "font_size": null,
       "text_color": null
      }
     },
     "b37f0128dccc414d9a35513133d12c6a": {
      "model_module": "@jupyter-widgets/controls",
      "model_module_version": "2.0.0",
      "model_name": "ProgressStyleModel",
      "state": {
       "_model_module": "@jupyter-widgets/controls",
       "_model_module_version": "2.0.0",
       "_model_name": "ProgressStyleModel",
       "_view_count": null,
       "_view_module": "@jupyter-widgets/base",
       "_view_module_version": "2.0.0",
       "_view_name": "StyleView",
       "bar_color": null,
       "description_width": ""
      }
     },
     "b8a50ed2962046f6a796b42b004a5f6f": {
      "model_module": "@jupyter-widgets/controls",
      "model_module_version": "2.0.0",
      "model_name": "HTMLStyleModel",
      "state": {
       "_model_module": "@jupyter-widgets/controls",
       "_model_module_version": "2.0.0",
       "_model_name": "HTMLStyleModel",
       "_view_count": null,
       "_view_module": "@jupyter-widgets/base",
       "_view_module_version": "2.0.0",
       "_view_name": "StyleView",
       "background": null,
       "description_width": "",
       "font_size": null,
       "text_color": null
      }
     },
     "ea62665d3d3a4f9da3fd37fc2f72d92a": {
      "model_module": "@jupyter-widgets/controls",
      "model_module_version": "2.0.0",
      "model_name": "HTMLStyleModel",
      "state": {
       "_model_module": "@jupyter-widgets/controls",
       "_model_module_version": "2.0.0",
       "_model_name": "HTMLStyleModel",
       "_view_count": null,
       "_view_module": "@jupyter-widgets/base",
       "_view_module_version": "2.0.0",
       "_view_name": "StyleView",
       "background": null,
       "description_width": "",
       "font_size": null,
       "text_color": null
      }
     },
     "f2ff8c96e82149d1938165a3c060844b": {
      "model_module": "@jupyter-widgets/controls",
      "model_module_version": "2.0.0",
      "model_name": "HTMLModel",
      "state": {
       "_dom_classes": [],
       "_model_module": "@jupyter-widgets/controls",
       "_model_module_version": "2.0.0",
       "_model_name": "HTMLModel",
       "_view_count": null,
       "_view_module": "@jupyter-widgets/controls",
       "_view_module_version": "2.0.0",
       "_view_name": "HTMLView",
       "description": "",
       "description_allow_html": false,
       "layout": "IPY_MODEL_106bdffb1b4b46e89793df43046196d1",
       "placeholder": "​",
       "style": "IPY_MODEL_963ebaa2393d447eaa828ec238dd9f1d",
       "tabbable": null,
       "tooltip": null,
       "value": " 507/507 [00:00&lt;00:00, 43.2kB/s]"
      }
     }
    },
    "version_major": 2,
    "version_minor": 0
   }
  }
 },
 "nbformat": 4,
 "nbformat_minor": 5
}
