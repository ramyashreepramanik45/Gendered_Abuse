{
 "cells": [
  {
   "cell_type": "code",
   "execution_count": 2,
   "metadata": {
    "_cell_guid": "b1076dfc-b9ad-4769-8c92-a6c4dae69d19",
    "_uuid": "8f2839f25d086af736a60e9eeb907d3b93b6e0e5",
    "execution": {
     "iopub.execute_input": "2025-04-13T18:58:57.027124Z",
     "iopub.status.busy": "2025-04-13T18:58:57.026920Z",
     "iopub.status.idle": "2025-04-13T18:58:57.140708Z",
     "shell.execute_reply": "2025-04-13T18:58:57.139957Z",
     "shell.execute_reply.started": "2025-04-13T18:58:57.027100Z"
    },
    "trusted": true
   },
   "outputs": [],
   "source": [
    "\n",
    "\n",
    "import pandas as pd\n",
    "from sklearn.model_selection import train_test_split\n",
    "\n",
    "tamil_train = pd.read_csv(\"/kaggle/input/hertlex-hindi-data/tamil_train.csv\")\n",
    "\n"
   ]
  },
  {
   "cell_type": "code",
   "execution_count": 3,
   "metadata": {
    "execution": {
     "iopub.execute_input": "2025-04-13T18:59:04.728375Z",
     "iopub.status.busy": "2025-04-13T18:59:04.727600Z",
     "iopub.status.idle": "2025-04-13T18:59:04.734654Z",
     "shell.execute_reply": "2025-04-13T18:59:04.733820Z",
     "shell.execute_reply.started": "2025-04-13T18:59:04.728344Z"
    },
    "trusted": true
   },
   "outputs": [],
   "source": [
    "import re,string\n",
    "def normalize_text(text):\n",
    "  # text = text.lower()\n",
    "  text = re.sub('\\[.*?\\]', ' ', text)\n",
    "  text = re.sub('https?://\\S+|www\\.\\S+', ' ', text)\n",
    "  text = re.sub('<.*?>+', ' ', text)\n",
    "  text = re.sub('[%s]' % re.escape(string.punctuation), ' ', text)\n",
    "  text = re.sub('\\n', ' ', text)\n",
    "  text = re.sub('\\w*\\d\\w*', ' ', text)\n",
    "  text = re.sub('<handle replaced>', '', text)\n",
    "  return text"
   ]
  },
  {
   "cell_type": "code",
   "execution_count": 4,
   "metadata": {
    "execution": {
     "iopub.execute_input": "2025-04-13T18:59:08.265226Z",
     "iopub.status.busy": "2025-04-13T18:59:08.264690Z",
     "iopub.status.idle": "2025-04-13T18:59:08.600667Z",
     "shell.execute_reply": "2025-04-13T18:59:08.599984Z",
     "shell.execute_reply.started": "2025-04-13T18:59:08.265202Z"
    },
    "trusted": true
   },
   "outputs": [
    {
     "data": {
      "text/plain": [
       "<bound method NDFrame.head of        label                                               text\n",
       "0          1  சலோமியா             சுண்ட கஞ்சி   சோறு டா குழம...\n",
       "1          0  டேய் பொட்ட பாடு  உன் வாழுல  ஊரா ன்   சாமானை வை...\n",
       "2          1                      நான்கு கிளிகள் மூன்று பூக்கள்\n",
       "3          0                               நல்ல மூடு போல உனக்கு\n",
       "4          0            இந்த கேலட்டு புண்டை தொல்லை தாங்க முடியல\n",
       "...      ...                                                ...\n",
       "23995      0                    ஏ பாவம் டா லூசு மெண்டல் பயலுவலா\n",
       "23996      0                           டேய் பொட்ட நீ பெய் ஊம்பு\n",
       "23997      1  அட   ஏன்டா இப்பிடி பன்ரிங்க கிருக்கு மெண்டல் ப...\n",
       "23998      0  பாத்து  ஆட்டு  அத்தாச்சி  ஒடஞ்சி  போக போது 😁😁😁...\n",
       "23999      0  யாரும் தப்பா கமன்ட் பண்ணாதீங்க நு சொன்னா மட்டு...\n",
       "\n",
       "[24000 rows x 2 columns]>"
      ]
     },
     "execution_count": 4,
     "metadata": {},
     "output_type": "execute_result"
    }
   ],
   "source": [
    "tamil_train['text'] = tamil_train['text'].apply(lambda x: normalize_text(x))\n",
    "tamil_train.head\n"
   ]
  },
  {
   "cell_type": "code",
   "execution_count": 5,
   "metadata": {
    "execution": {
     "iopub.execute_input": "2025-04-13T18:59:12.253596Z",
     "iopub.status.busy": "2025-04-13T18:59:12.253059Z",
     "iopub.status.idle": "2025-04-13T18:59:12.327956Z",
     "shell.execute_reply": "2025-04-13T18:59:12.327186Z",
     "shell.execute_reply.started": "2025-04-13T18:59:12.253574Z"
    },
    "trusted": true
   },
   "outputs": [],
   "source": [
    "\n",
    "\n",
    "tamil_val = pd.read_csv(\"/kaggle/input/hertlex-hindi-data/tamil_val.csv\")\n",
    "tamil_val['text'] = tamil_val['text'].apply(lambda x: normalize_text(x))\n",
    "\n"
   ]
  },
  {
   "cell_type": "code",
   "execution_count": 6,
   "metadata": {
    "execution": {
     "iopub.execute_input": "2025-04-13T18:59:16.623400Z",
     "iopub.status.busy": "2025-04-13T18:59:16.623132Z",
     "iopub.status.idle": "2025-04-13T18:59:21.361228Z",
     "shell.execute_reply": "2025-04-13T18:59:21.360409Z",
     "shell.execute_reply.started": "2025-04-13T18:59:16.623380Z"
    },
    "trusted": true
   },
   "outputs": [
    {
     "name": "stderr",
     "output_type": "stream",
     "text": [
      "[nltk_data] Downloading package punkt to /usr/share/nltk_data...\n",
      "[nltk_data]   Package punkt is already up-to-date!\n"
     ]
    },
    {
     "data": {
      "text/plain": [
       "True"
      ]
     },
     "execution_count": 6,
     "metadata": {},
     "output_type": "execute_result"
    }
   ],
   "source": [
    "import torch\n",
    "import torch.nn as nn\n",
    "import torch.optim as optim\n",
    "from torch.utils.data import Dataset, DataLoader\n",
    "import pandas as pd\n",
    "import numpy as np\n",
    "from tqdm import tqdm\n",
    "from sklearn.metrics import f1_score\n",
    "from sklearn.model_selection import train_test_split\n",
    "import re\n",
    "from nltk.tokenize import word_tokenize\n",
    "import nltk\n",
    "nltk.download('punkt')"
   ]
  },
  {
   "cell_type": "code",
   "execution_count": 7,
   "metadata": {
    "execution": {
     "iopub.execute_input": "2025-04-13T18:59:57.591087Z",
     "iopub.status.busy": "2025-04-13T18:59:57.590614Z",
     "iopub.status.idle": "2025-04-13T18:59:57.595155Z",
     "shell.execute_reply": "2025-04-13T18:59:57.594353Z",
     "shell.execute_reply.started": "2025-04-13T18:59:57.591061Z"
    },
    "trusted": true
   },
   "outputs": [],
   "source": [
    "def clean_text(text):\n",
    "    text = normalize_text(text)\n",
    "    return word_tokenize(text)"
   ]
  },
  {
   "cell_type": "code",
   "execution_count": 8,
   "metadata": {
    "execution": {
     "iopub.execute_input": "2025-04-13T19:00:16.531254Z",
     "iopub.status.busy": "2025-04-13T19:00:16.530671Z",
     "iopub.status.idle": "2025-04-13T19:00:18.994946Z",
     "shell.execute_reply": "2025-04-13T19:00:18.994325Z",
     "shell.execute_reply.started": "2025-04-13T19:00:16.531228Z"
    },
    "trusted": true
   },
   "outputs": [],
   "source": [
    "all_text = tamil_train['text'].tolist() + tamil_val['text'].tolist()\n",
    "tokenized_texts = [clean_text(t) for t in all_text]\n",
    "vocab = {'<PAD>': 0, '<UNK>': 1}\n",
    "for sentence in tokenized_texts:\n",
    "    for word in sentence:\n",
    "        if word not in vocab:\n",
    "            vocab[word] = len(vocab)"
   ]
  },
  {
   "cell_type": "code",
   "execution_count": 9,
   "metadata": {
    "execution": {
     "iopub.execute_input": "2025-04-13T19:00:25.529931Z",
     "iopub.status.busy": "2025-04-13T19:00:25.529626Z",
     "iopub.status.idle": "2025-04-13T19:00:25.535418Z",
     "shell.execute_reply": "2025-04-13T19:00:25.534639Z",
     "shell.execute_reply.started": "2025-04-13T19:00:25.529910Z"
    },
    "trusted": true
   },
   "outputs": [],
   "source": [
    "def load_glove(file_path, vocab, embedding_dim=100):\n",
    "    embeddings_index = {}\n",
    "    with open(file_path, 'r', encoding='utf-8') as f:\n",
    "        for line in f:\n",
    "            values = line.split()\n",
    "            word = values[0]\n",
    "            vector = np.asarray(values[1:], dtype='float32')\n",
    "            embeddings_index[word] = vector\n",
    "\n",
    "    embedding_matrix = np.zeros((len(vocab), embedding_dim))\n",
    "    for word, idx in vocab.items():\n",
    "        embedding_vector = embeddings_index.get(word)\n",
    "        if embedding_vector is not None:\n",
    "            embedding_matrix[idx] = embedding_vector\n",
    "        else:\n",
    "            embedding_matrix[idx] = np.random.normal(scale=0.6, size=(embedding_dim,))\n",
    "    return torch.tensor(embedding_matrix, dtype=torch.float32)\n"
   ]
  },
  {
   "cell_type": "code",
   "execution_count": 10,
   "metadata": {
    "execution": {
     "iopub.execute_input": "2025-04-13T19:00:34.137132Z",
     "iopub.status.busy": "2025-04-13T19:00:34.136857Z",
     "iopub.status.idle": "2025-04-13T19:01:07.817762Z",
     "shell.execute_reply": "2025-04-13T19:01:07.816866Z",
     "shell.execute_reply.started": "2025-04-13T19:00:34.137112Z"
    },
    "trusted": true
   },
   "outputs": [
    {
     "name": "stdout",
     "output_type": "stream",
     "text": [
      "--2025-04-13 19:00:34--  https://dl.fbaipublicfiles.com/fasttext/vectors-crawl/cc.ta.300.vec.gz\n",
      "Resolving dl.fbaipublicfiles.com (dl.fbaipublicfiles.com)... 3.163.189.14, 3.163.189.108, 3.163.189.51, ...\n",
      "Connecting to dl.fbaipublicfiles.com (dl.fbaipublicfiles.com)|3.163.189.14|:443... connected.\n",
      "HTTP request sent, awaiting response... 200 OK\n",
      "Length: 1213735937 (1.1G) [binary/octet-stream]\n",
      "Saving to: ‘cc.ta.300.vec.gz’\n",
      "\n",
      "cc.ta.300.vec.gz    100%[===================>]   1.13G   369MB/s    in 3.2s    \n",
      "\n",
      "2025-04-13 19:00:37 (358 MB/s) - ‘cc.ta.300.vec.gz’ saved [1213735937/1213735937]\n",
      "\n"
     ]
    }
   ],
   "source": [
    "!wget https://dl.fbaipublicfiles.com/fasttext/vectors-crawl/cc.ta.300.vec.gz\n",
    "!gunzip cc.ta.300.vec.gz\n"
   ]
  },
  {
   "cell_type": "code",
   "execution_count": 11,
   "metadata": {
    "execution": {
     "iopub.execute_input": "2025-04-13T19:02:40.630351Z",
     "iopub.status.busy": "2025-04-13T19:02:40.629607Z",
     "iopub.status.idle": "2025-04-13T19:04:44.802763Z",
     "shell.execute_reply": "2025-04-13T19:04:44.802175Z",
     "shell.execute_reply.started": "2025-04-13T19:02:40.630319Z"
    },
    "trusted": true
   },
   "outputs": [],
   "source": [
    "embedding_dim = 300\n",
    "glove_path = \"/kaggle/working/cc.ta.300.vec\"  # Update if needed\n",
    "embedding_matrix = load_glove(glove_path, vocab, embedding_dim)\n"
   ]
  },
  {
   "cell_type": "code",
   "execution_count": null,
   "metadata": {
    "execution": {
     "iopub.execute_input": "2025-04-13T19:05:46.592098Z",
     "iopub.status.busy": "2025-04-13T19:05:46.591805Z",
     "iopub.status.idle": "2025-04-13T19:05:46.598001Z",
     "shell.execute_reply": "2025-04-13T19:05:46.597311Z",
     "shell.execute_reply.started": "2025-04-13T19:05:46.592075Z"
    },
    "trusted": true
   },
   "outputs": [],
   "source": [
    "class TextDataset(Dataset):\n",
    "    def __init__(self, dataframe, word2idx, max_len):\n",
    "        self.texts = dataframe['text'].tolist()\n",
    "        self.labels = dataframe['label'].tolist()\n",
    "        self.vocab = word2idx\n",
    "        self.max_len = max_len\n",
    "\n",
    "    def __len__(self):\n",
    "        return len(self.texts)\n",
    "\n",
    "    \n",
    "    def __getitem__(self, idx):\n",
    "        tokens = clean_text(self.texts[idx])\n",
    "        ids = [self.vocab.get(w, self.vocab['<UNK>']) for w in tokens]\n",
    "        if len(ids) < self.max_len:\n",
    "            ids += [self.vocab['<PAD>']] * (self.max_len - len(ids))\n",
    "        else:\n",
    "            ids = ids[:self.max_len]\n",
    "        return torch.tensor(ids), torch.tensor(self.labels[idx])"
   ]
  },
  {
   "cell_type": "code",
   "execution_count": 14,
   "metadata": {
    "execution": {
     "iopub.execute_input": "2025-04-13T19:06:44.247024Z",
     "iopub.status.busy": "2025-04-13T19:06:44.246729Z",
     "iopub.status.idle": "2025-04-13T19:06:44.257746Z",
     "shell.execute_reply": "2025-04-13T19:06:44.256972Z",
     "shell.execute_reply.started": "2025-04-13T19:06:44.247003Z"
    },
    "trusted": true
   },
   "outputs": [],
   "source": [
    "train_dataset = TextDataset(tamil_train, vocab,max_len=100)\n",
    "val_dataset = TextDataset(tamil_val, vocab,max_len=100)\n",
    "\n",
    "train_loader = DataLoader(train_dataset, batch_size=32, shuffle=True)\n",
    "val_loader = DataLoader(val_dataset, batch_size=32)"
   ]
  },
  {
   "cell_type": "code",
   "execution_count": 15,
   "metadata": {
    "execution": {
     "iopub.execute_input": "2025-04-13T19:07:21.762222Z",
     "iopub.status.busy": "2025-04-13T19:07:21.761946Z",
     "iopub.status.idle": "2025-04-13T19:07:21.768960Z",
     "shell.execute_reply": "2025-04-13T19:07:21.768076Z",
     "shell.execute_reply.started": "2025-04-13T19:07:21.762203Z"
    },
    "trusted": true
   },
   "outputs": [],
   "source": [
    "class CNNBiLSTMClassifier(nn.Module):\n",
    "    def __init__(self, embedding_matrix):\n",
    "        super(CNNBiLSTMClassifier, self).__init__()\n",
    "        vocab_size, embed_size = embedding_matrix.shape\n",
    "        self.embedding = nn.Embedding(vocab_size, embed_size)\n",
    "        self.embedding.weight = nn.Parameter(torch.tensor(embedding_matrix, dtype=torch.float32))\n",
    "        self.embedding.weight.requires_grad = False\n",
    "        self.dropout1 = nn.Dropout(0.1)\n",
    "        self.conv1 = nn.Conv1d(embed_size, 64, kernel_size=2)\n",
    "        self.lstm = nn.LSTM(64, 128, batch_first=True, bidirectional=True)\n",
    "        self.avgpool = nn.AdaptiveAvgPool1d(1)\n",
    "        self.fc = nn.Linear(256, 128)\n",
    "        self.dropout2 = nn.Dropout(0.1)\n",
    "        self.out = nn.Linear(128, 2)\n",
    "\n",
    "    def forward(self, x):\n",
    "        x = self.embedding(x)\n",
    "        x = self.dropout1(x)\n",
    "        x = x.permute(0, 2, 1)\n",
    "        x = self.conv1(x)\n",
    "        x = x.permute(0, 2, 1)\n",
    "        x, _ = self.lstm(x)\n",
    "        x = x.permute(0, 2, 1)\n",
    "        x = self.avgpool(x).squeeze(2)\n",
    "        x = torch.relu(self.fc(x))\n",
    "        x = self.dropout2(x)\n",
    "        return self.out(x)\n"
   ]
  },
  {
   "cell_type": "code",
   "execution_count": 19,
   "metadata": {
    "execution": {
     "iopub.execute_input": "2025-04-13T19:10:18.907179Z",
     "iopub.status.busy": "2025-04-13T19:10:18.906908Z",
     "iopub.status.idle": "2025-04-13T19:10:19.044800Z",
     "shell.execute_reply": "2025-04-13T19:10:19.044041Z",
     "shell.execute_reply.started": "2025-04-13T19:10:18.907160Z"
    },
    "trusted": true
   },
   "outputs": [
    {
     "name": "stderr",
     "output_type": "stream",
     "text": [
      "/tmp/ipykernel_31/360869739.py:6: UserWarning: To copy construct from a tensor, it is recommended to use sourceTensor.clone().detach() or sourceTensor.clone().detach().requires_grad_(True), rather than torch.tensor(sourceTensor).\n",
      "  self.embedding.weight = nn.Parameter(torch.tensor(embedding_matrix, dtype=torch.float32))\n"
     ]
    }
   ],
   "source": [
    "device = torch.device(\"cuda\" if torch.cuda.is_available() else \"cpu\")\n",
    "model = CNNBiLSTMClassifier(embedding_matrix).to(device)\n",
    "criterion = nn.CrossEntropyLoss()\n",
    "optimizer = optim.Adam(model.parameters(), lr=0.0005)\n"
   ]
  },
  {
   "cell_type": "code",
   "execution_count": 20,
   "metadata": {
    "execution": {
     "iopub.execute_input": "2025-04-13T19:10:23.533980Z",
     "iopub.status.busy": "2025-04-13T19:10:23.533667Z",
     "iopub.status.idle": "2025-04-13T19:10:23.540370Z",
     "shell.execute_reply": "2025-04-13T19:10:23.539529Z",
     "shell.execute_reply.started": "2025-04-13T19:10:23.533958Z"
    },
    "trusted": true
   },
   "outputs": [],
   "source": [
    "def train_epoch(model, loader, optimizer, criterion):\n",
    "    model.train()\n",
    "    total_loss = 0\n",
    "    for inputs,labels in tqdm(loader, desc=\"Training\"):\n",
    "        inputs, labels = inputs.to(device), labels.to(device)\n",
    "        optimizer.zero_grad()\n",
    "        outputs = model(inputs)\n",
    "        loss = criterion(outputs, labels)\n",
    "        loss.backward()\n",
    "        optimizer.step()\n",
    "        total_loss += loss.item()\n",
    "    return total_loss / len(loader)\n",
    "\n",
    "def eval_model(model, loader):\n",
    "    model.eval()\n",
    "    preds, targets = [], []\n",
    "    with torch.no_grad():\n",
    "        for inputs , labels in tqdm(loader, desc=\"Evaluating\"):\n",
    "            inputs, labels = inputs.to(device), labels.to(device)\n",
    "            outputs = model(inputs)\n",
    "            pred = torch.argmax(outputs, dim=1)\n",
    "            preds.extend(pred.cpu().numpy())\n",
    "            targets.extend(labels.cpu().numpy())\n",
    "    return f1_score(targets, preds, average='macro')"
   ]
  },
  {
   "cell_type": "code",
   "execution_count": 21,
   "metadata": {
    "execution": {
     "iopub.execute_input": "2025-04-13T19:10:29.875127Z",
     "iopub.status.busy": "2025-04-13T19:10:29.874861Z",
     "iopub.status.idle": "2025-04-13T19:11:29.139362Z",
     "shell.execute_reply": "2025-04-13T19:11:29.138335Z",
     "shell.execute_reply.started": "2025-04-13T19:10:29.875108Z"
    },
    "trusted": true
   },
   "outputs": [
    {
     "name": "stdout",
     "output_type": "stream",
     "text": [
      "\n",
      "Epoch 1\n"
     ]
    },
    {
     "name": "stderr",
     "output_type": "stream",
     "text": [
      "Training: 100%|██████████| 750/750 [00:06<00:00, 110.16it/s]\n",
      "Evaluating: 100%|██████████| 94/94 [00:00<00:00, 166.41it/s]\n"
     ]
    },
    {
     "name": "stdout",
     "output_type": "stream",
     "text": [
      "Train Loss: 0.6919 | Val F1: 0.3568\n",
      "\n",
      "Epoch 2\n"
     ]
    },
    {
     "name": "stderr",
     "output_type": "stream",
     "text": [
      "Training: 100%|██████████| 750/750 [00:06<00:00, 110.68it/s]\n",
      "Evaluating: 100%|██████████| 94/94 [00:00<00:00, 167.60it/s]\n"
     ]
    },
    {
     "name": "stdout",
     "output_type": "stream",
     "text": [
      "Train Loss: 0.6625 | Val F1: 0.6770\n",
      "\n",
      "Epoch 3\n"
     ]
    },
    {
     "name": "stderr",
     "output_type": "stream",
     "text": [
      "Training: 100%|██████████| 750/750 [00:06<00:00, 111.10it/s]\n",
      "Evaluating: 100%|██████████| 94/94 [00:00<00:00, 165.03it/s]\n"
     ]
    },
    {
     "name": "stdout",
     "output_type": "stream",
     "text": [
      "Train Loss: 0.5802 | Val F1: 0.7430\n",
      "\n",
      "Epoch 4\n"
     ]
    },
    {
     "name": "stderr",
     "output_type": "stream",
     "text": [
      "Training: 100%|██████████| 750/750 [00:06<00:00, 108.34it/s]\n",
      "Evaluating: 100%|██████████| 94/94 [00:00<00:00, 167.30it/s]\n"
     ]
    },
    {
     "name": "stdout",
     "output_type": "stream",
     "text": [
      "Train Loss: 0.5092 | Val F1: 0.7697\n",
      "\n",
      "Epoch 5\n"
     ]
    },
    {
     "name": "stderr",
     "output_type": "stream",
     "text": [
      "Training: 100%|██████████| 750/750 [00:06<00:00, 109.25it/s]\n",
      "Evaluating: 100%|██████████| 94/94 [00:00<00:00, 162.24it/s]\n"
     ]
    },
    {
     "name": "stdout",
     "output_type": "stream",
     "text": [
      "Train Loss: 0.4675 | Val F1: 0.7813\n",
      "\n",
      "Epoch 6\n"
     ]
    },
    {
     "name": "stderr",
     "output_type": "stream",
     "text": [
      "Training: 100%|██████████| 750/750 [00:06<00:00, 110.31it/s]\n",
      "Evaluating: 100%|██████████| 94/94 [00:00<00:00, 166.57it/s]\n"
     ]
    },
    {
     "name": "stdout",
     "output_type": "stream",
     "text": [
      "Train Loss: 0.4478 | Val F1: 0.7962\n",
      "\n",
      "Epoch 7\n"
     ]
    },
    {
     "name": "stderr",
     "output_type": "stream",
     "text": [
      "Training: 100%|██████████| 750/750 [00:06<00:00, 111.14it/s]\n",
      "Evaluating: 100%|██████████| 94/94 [00:00<00:00, 168.15it/s]\n"
     ]
    },
    {
     "name": "stdout",
     "output_type": "stream",
     "text": [
      "Train Loss: 0.4268 | Val F1: 0.8039\n",
      "\n",
      "Epoch 8\n"
     ]
    },
    {
     "name": "stderr",
     "output_type": "stream",
     "text": [
      "Training: 100%|██████████| 750/750 [00:06<00:00, 109.52it/s]\n",
      "Evaluating: 100%|██████████| 94/94 [00:00<00:00, 167.86it/s]\n"
     ]
    },
    {
     "name": "stdout",
     "output_type": "stream",
     "text": [
      "Train Loss: 0.4135 | Val F1: 0.8079\n"
     ]
    }
   ],
   "source": [
    "for epoch in range(8):\n",
    "    print(f\"\\nEpoch {epoch+1}\")\n",
    "    train_loss = train_epoch(model, train_loader,optimizer, criterion)\n",
    "    val_f1 = eval_model(model, val_loader)\n",
    "    print(f\"Train Loss: {train_loss:.4f} | Val F1: {val_f1:.4f}\")\n",
    "import matplotlib.pyplot as plt\n",
    "train_losses = []\n",
    "val_f1s = []\n",
    "torch.save(model.state_dict(), \"tamil_glove_cnn_bilstm_model.pth\")\n",
    "\n",
    "\n"
   ]
  },
  {
   "cell_type": "code",
   "execution_count": 22,
   "metadata": {
    "execution": {
     "iopub.execute_input": "2025-04-13T19:11:57.537016Z",
     "iopub.status.busy": "2025-04-13T19:11:57.536262Z",
     "iopub.status.idle": "2025-04-13T19:11:57.545784Z",
     "shell.execute_reply": "2025-04-13T19:11:57.545112Z",
     "shell.execute_reply.started": "2025-04-13T19:11:57.536988Z"
    },
    "trusted": true
   },
   "outputs": [],
   "source": [
    "def data_preprocessing(df, language):\n",
    "    if language == \"tamil\":\n",
    "        annotator_cols = [\"ta_a1\", \"ta_a2\", \"ta_a3\", \"ta_a4\", \"ta_a5\", \"ta_a6\"]\n",
    "    elif language == \"hindi\":\n",
    "        annotator_cols = [\"hi_a1\", \"hi_a2\", \"hi_a3\", \"hi_a4\", \"hi_a5\"]\n",
    "    else:\n",
    "        annotator_cols = [\"en_a1\", \"en_a2\", \"en_a3\", \"en_a4\", \"en_a5\", \"en_a6\"]\n",
    "\n",
    "    df[annotator_cols] = df[annotator_cols].fillna(\"\")\n",
    "\n",
    "    def majority_label(row):\n",
    "        votes = []\n",
    "        for col in annotator_cols:\n",
    "            val = row[col]\n",
    "            try:\n",
    "                if val != \"\":\n",
    "                    num_val = float(val)\n",
    "                    if num_val in [0.0, 1.0]:\n",
    "                        votes.append(int(num_val))\n",
    "            except:\n",
    "                continue\n",
    "        if not votes:\n",
    "            return 0\n",
    "        return 1 if votes.count(1) > votes.count(0) else 0\n",
    "\n",
    "    df[\"label\"] = df.apply(majority_label, axis=1)\n",
    "    df[\"label\"] = df[\"label\"].astype(int)\n",
    "    df = df.drop(columns=annotator_cols + [\"key\"])\n",
    "    print(df[\"label\"].value_counts())\n",
    "    return df"
   ]
  },
  {
   "cell_type": "code",
   "execution_count": 25,
   "metadata": {
    "execution": {
     "iopub.execute_input": "2025-04-13T19:14:11.248558Z",
     "iopub.status.busy": "2025-04-13T19:14:11.248089Z",
     "iopub.status.idle": "2025-04-13T19:14:11.544731Z",
     "shell.execute_reply": "2025-04-13T19:14:11.544048Z",
     "shell.execute_reply.started": "2025-04-13T19:14:11.248537Z"
    },
    "trusted": true
   },
   "outputs": [
    {
     "name": "stdout",
     "output_type": "stream",
     "text": [
      "Rows: 6779, Columns: 8\n",
      "label\n",
      "0    3890\n",
      "1    2889\n",
      "Name: count, dtype: int64\n",
      "Rows: 6779, Columns: 2\n"
     ]
    }
   ],
   "source": [
    "df_tamil = pd.read_csv(\"/kaggle/input/hertlex-hindi-data/train_ta_l1.csv\")\n",
    "rows, columns = df_tamil.shape\n",
    "print(f\"Rows: {rows}, Columns: {columns}\")\n",
    "tamil_train_gender = data_preprocessing(df_tamil,\"tamil\")\n",
    "tamil_train_gender['text'] = tamil_train_gender['text'].apply(lambda x: normalize_text(x))\n",
    "rows, columns = tamil_train_gender.shape\n",
    "print(f\"Rows: {rows}, Columns: {columns}\")\n"
   ]
  },
  {
   "cell_type": "code",
   "execution_count": 26,
   "metadata": {
    "execution": {
     "iopub.execute_input": "2025-04-13T19:14:54.660707Z",
     "iopub.status.busy": "2025-04-13T19:14:54.660435Z",
     "iopub.status.idle": "2025-04-13T19:14:54.665487Z",
     "shell.execute_reply": "2025-04-13T19:14:54.664812Z",
     "shell.execute_reply.started": "2025-04-13T19:14:54.660687Z"
    },
    "trusted": true
   },
   "outputs": [],
   "source": [
    "gendered_train_dataset = TextDataset(tamil_train_gender, vocab,max_len=100)\n",
    "gendered_train_loader = DataLoader(gendered_train_dataset, batch_size=32, shuffle=True)\n"
   ]
  },
  {
   "cell_type": "code",
   "execution_count": 27,
   "metadata": {
    "execution": {
     "iopub.execute_input": "2025-04-13T19:15:19.028216Z",
     "iopub.status.busy": "2025-04-13T19:15:19.027973Z",
     "iopub.status.idle": "2025-04-13T19:15:19.200621Z",
     "shell.execute_reply": "2025-04-13T19:15:19.199825Z",
     "shell.execute_reply.started": "2025-04-13T19:15:19.028200Z"
    },
    "trusted": true
   },
   "outputs": [
    {
     "name": "stdout",
     "output_type": "stream",
     "text": [
      "\n",
      "Loaded Stage 1 model weights (hate speech) for fine-tuning.\n"
     ]
    },
    {
     "name": "stderr",
     "output_type": "stream",
     "text": [
      "/tmp/ipykernel_31/360869739.py:6: UserWarning: To copy construct from a tensor, it is recommended to use sourceTensor.clone().detach() or sourceTensor.clone().detach().requires_grad_(True), rather than torch.tensor(sourceTensor).\n",
      "  self.embedding.weight = nn.Parameter(torch.tensor(embedding_matrix, dtype=torch.float32))\n",
      "/tmp/ipykernel_31/1909066890.py:4: FutureWarning: You are using `torch.load` with `weights_only=False` (the current default value), which uses the default pickle module implicitly. It is possible to construct malicious pickle data which will execute arbitrary code during unpickling (See https://github.com/pytorch/pytorch/blob/main/SECURITY.md#untrusted-models for more details). In a future release, the default value for `weights_only` will be flipped to `True`. This limits the functions that could be executed during unpickling. Arbitrary objects will no longer be allowed to be loaded via this mode unless they are explicitly allowlisted by the user via `torch.serialization.add_safe_globals`. We recommend you start setting `weights_only=True` for any use case where you don't have full control of the loaded file. Please open an issue on GitHub for any issues related to this experimental feature.\n",
      "  model.load_state_dict(torch.load(\"/kaggle/working/tamil_glove_cnn_bilstm_model.pth\"))\n"
     ]
    }
   ],
   "source": [
    "device = torch.device(\"cuda\" if torch.cuda.is_available() else \"cpu\")\n",
    "\n",
    "model = CNNBiLSTMClassifier(embedding_matrix).to(device)\n",
    "model.load_state_dict(torch.load(\"/kaggle/working/tamil_glove_cnn_bilstm_model.pth\"))\n",
    "print(\"\\nLoaded Stage 1 model weights (hate speech) for fine-tuning.\")\n"
   ]
  },
  {
   "cell_type": "code",
   "execution_count": null,
   "metadata": {
    "execution": {
     "iopub.execute_input": "2025-04-13T19:19:58.217869Z",
     "iopub.status.busy": "2025-04-13T19:19:58.217553Z",
     "iopub.status.idle": "2025-04-13T19:20:11.292615Z",
     "shell.execute_reply": "2025-04-13T19:20:11.291808Z",
     "shell.execute_reply.started": "2025-04-13T19:19:58.217847Z"
    },
    "trusted": true
   },
   "outputs": [
    {
     "name": "stderr",
     "output_type": "stream",
     "text": [
      "Training Stage 2 - Epoch 1: 100%|██████████| 212/212 [00:02<00:00, 82.23it/s, loss=0.301]\n"
     ]
    },
    {
     "name": "stdout",
     "output_type": "stream",
     "text": [
      "Epoch 1 Average Loss: 0.4565\n"
     ]
    },
    {
     "name": "stderr",
     "output_type": "stream",
     "text": [
      "Training Stage 2 - Epoch 2: 100%|██████████| 212/212 [00:02<00:00, 81.62it/s, loss=0.431]\n"
     ]
    },
    {
     "name": "stdout",
     "output_type": "stream",
     "text": [
      "Epoch 2 Average Loss: 0.4526\n"
     ]
    },
    {
     "name": "stderr",
     "output_type": "stream",
     "text": [
      "Training Stage 2 - Epoch 3: 100%|██████████| 212/212 [00:02<00:00, 82.21it/s, loss=0.376]\n"
     ]
    },
    {
     "name": "stdout",
     "output_type": "stream",
     "text": [
      "Epoch 3 Average Loss: 0.4526\n"
     ]
    },
    {
     "name": "stderr",
     "output_type": "stream",
     "text": [
      "Training Stage 2 - Epoch 4: 100%|██████████| 212/212 [00:02<00:00, 81.86it/s, loss=0.429]\n"
     ]
    },
    {
     "name": "stdout",
     "output_type": "stream",
     "text": [
      "Epoch 4 Average Loss: 0.4518\n"
     ]
    },
    {
     "name": "stderr",
     "output_type": "stream",
     "text": [
      "Training Stage 2 - Epoch 5: 100%|██████████| 212/212 [00:02<00:00, 82.23it/s, loss=0.473]\n"
     ]
    },
    {
     "name": "stdout",
     "output_type": "stream",
     "text": [
      "Epoch 5 Average Loss: 0.4479\n",
      "✅ Stage 2 Model Saved: stage2_gendered_abuse.pth\n"
     ]
    }
   ],
   "source": [
    "def train_stage2(model, train_loader, epochs=5):\n",
    "    model.train()\n",
    "    optimizer = torch.optim.Adam(model.parameters(), lr=0.00005)\n",
    "    criterion = nn.CrossEntropyLoss()\n",
    "\n",
    "    for epoch in range(epochs):\n",
    "        total_loss = 0.0\n",
    "        loop = tqdm(train_loader, desc=f\"Training Stage 2 - Epoch {epoch+1}\")\n",
    "        for inputs,labels in loop:\n",
    "            optimizer.zero_grad()\n",
    "            inputs,labels = inputs.to(device),labels.to(device)\n",
    "\n",
    "            outputs = model(inputs)\n",
    "            loss = criterion(outputs, labels)\n",
    "            loss.backward()\n",
    "            optimizer.step()\n",
    "            total_loss += loss.item()\n",
    "            loop.set_postfix(loss=loss.item())\n",
    "\n",
    "        avg_loss = total_loss / len(train_loader)\n",
    "        print(f\"Epoch {epoch+1} Average Loss: {avg_loss:.4f}\")\n",
    "        \n",
    "    torch.save(model.state_dict(), \"stage2_gendered_abuse.pth\")\n",
    "    print(\" Stage 2 Model Saved: stage2_gendered_abuse.pth\")\n",
    "\n",
    "train_stage2(model, gendered_train_loader)\n"
   ]
  },
  {
   "cell_type": "code",
   "execution_count": null,
   "metadata": {
    "execution": {
     "iopub.execute_input": "2025-04-13T19:20:18.988602Z",
     "iopub.status.busy": "2025-04-13T19:20:18.988150Z",
     "iopub.status.idle": "2025-04-13T19:20:19.482285Z",
     "shell.execute_reply": "2025-04-13T19:20:19.481586Z",
     "shell.execute_reply.started": "2025-04-13T19:20:18.988578Z"
    },
    "trusted": true
   },
   "outputs": [
    {
     "name": "stdout",
     "output_type": "stream",
     "text": [
      "Test Set: (1135, 8)\n",
      "label\n",
      "0    596\n",
      "1    539\n",
      "Name: count, dtype: int64\n"
     ]
    },
    {
     "name": "stderr",
     "output_type": "stream",
     "text": [
      "/tmp/ipykernel_31/360869739.py:6: UserWarning: To copy construct from a tensor, it is recommended to use sourceTensor.clone().detach() or sourceTensor.clone().detach().requires_grad_(True), rather than torch.tensor(sourceTensor).\n",
      "  self.embedding.weight = nn.Parameter(torch.tensor(embedding_matrix, dtype=torch.float32))\n",
      "/tmp/ipykernel_31/2371794262.py:13: FutureWarning: You are using `torch.load` with `weights_only=False` (the current default value), which uses the default pickle module implicitly. It is possible to construct malicious pickle data which will execute arbitrary code during unpickling (See https://github.com/pytorch/pytorch/blob/main/SECURITY.md#untrusted-models for more details). In a future release, the default value for `weights_only` will be flipped to `True`. This limits the functions that could be executed during unpickling. Arbitrary objects will no longer be allowed to be loaded via this mode unless they are explicitly allowlisted by the user via `torch.serialization.add_safe_globals`. We recommend you start setting `weights_only=True` for any use case where you don't have full control of the loaded file. Please open an issue on GitHub for any issues related to this experimental feature.\n",
      "  model.load_state_dict(torch.load(\"/kaggle/working/stage2_gendered_abuse.pth\"))\n",
      "Training Stage 2 - Epoch 8: 100%|██████████| 36/36 [00:00<00:00, 139.19it/s]"
     ]
    },
    {
     "name": "stdout",
     "output_type": "stream",
     "text": [
      "\n",
      "Test F1 Score (Macro): 0.7519\n",
      "\n",
      "Classification Report:\n",
      "               precision    recall  f1-score   support\n",
      "\n",
      "           0     0.7450    0.8087    0.7755       596\n",
      "           1     0.7664    0.6939    0.7283       539\n",
      "\n",
      "    accuracy                         0.7542      1135\n",
      "   macro avg     0.7557    0.7513    0.7519      1135\n",
      "weighted avg     0.7551    0.7542    0.7531      1135\n",
      "\n",
      "✅ Final Gendered Abuse Test F1 Score (Macro): 0.7519\n"
     ]
    },
    {
     "name": "stderr",
     "output_type": "stream",
     "text": [
      "\n"
     ]
    }
   ],
   "source": [
    "from sklearn.metrics import f1_score, classification_report\n",
    "df_tamil_test = pd.read_csv(\"/kaggle/input/hertlex-hindi-data/test_ta_l1.csv\", engine='python')\n",
    "print(\"Test Set:\", df_tamil_test.shape)\n",
    "tamil_test_gender = data_preprocessing(df_tamil_test, \"tamil\")\n",
    "tamil_test_gender[\"text\"] = tamil_test_gender[\"text\"].apply(lambda x: normalize_text(x))\n",
    "\n",
    "gendered_test_dataset = TextDataset(tamil_test_gender, vocab,max_len=100)\n",
    "gendered_test_loader = DataLoader(gendered_test_dataset, batch_size=32,shuffle=True)\n",
    "\n",
    "model = CNNBiLSTMClassifier(embedding_matrix).to(device)\n",
    "model.load_state_dict(torch.load(\"/kaggle/working/stage2_gendered_abuse.pth\"))\n",
    "model.eval()\n",
    "\n",
    "def inference_on_gendered_abuse_test(model, test_loader):\n",
    "    model.eval()\n",
    "    all_preds = []\n",
    "    all_labels = []\n",
    "\n",
    "    with torch.no_grad():\n",
    "        \n",
    "        loop = tqdm(test_loader, desc=f\"Training Stage 2 - Epoch {epoch+1}\")\n",
    "        for inputs,labels in loop:\n",
    "            inputs,labels = inputs.to(device),labels.to(device)\n",
    "\n",
    "\n",
    "\n",
    "            outputs = model(inputs)\n",
    "            preds = torch.argmax(outputs, dim=1)\n",
    "\n",
    "            all_preds.extend(preds.cpu().numpy())\n",
    "            all_labels.extend(labels.cpu().numpy())\n",
    "\n",
    "    f1_macro = f1_score(all_labels, all_preds, average='macro')\n",
    "    print(f\"\\nTest F1 Score (Macro): {f1_macro:.4f}\")\n",
    "    print(\"\\nClassification Report:\\n\", classification_report(all_labels, all_preds, digits=4))\n",
    "    return f1_macro\n",
    "\n",
    "f1_macro_test = inference_on_gendered_abuse_test(model, gendered_test_loader)\n",
    "print(f\" Final Gendered Abuse Test F1 Score (Macro): {f1_macro_test:.4f}\")\n"
   ]
  }
 ],
 "metadata": {
  "kaggle": {
   "accelerator": "gpu",
   "dataSources": [
    {
     "datasetId": 7129286,
     "sourceId": 11392047,
     "sourceType": "datasetVersion"
    }
   ],
   "dockerImageVersionId": 31011,
   "isGpuEnabled": true,
   "isInternetEnabled": true,
   "language": "python",
   "sourceType": "notebook"
  },
  "kernelspec": {
   "display_name": "Python 3",
   "language": "python",
   "name": "python3"
  },
  "language_info": {
   "codemirror_mode": {
    "name": "ipython",
    "version": 3
   },
   "file_extension": ".py",
   "mimetype": "text/x-python",
   "name": "python",
   "nbconvert_exporter": "python",
   "pygments_lexer": "ipython3",
   "version": "3.11.11"
  }
 },
 "nbformat": 4,
 "nbformat_minor": 4
}
