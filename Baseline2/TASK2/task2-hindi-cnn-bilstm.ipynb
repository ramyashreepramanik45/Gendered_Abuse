{
 "cells": [
  {
   "cell_type": "code",
   "execution_count": 2,
   "metadata": {
    "_cell_guid": "b1076dfc-b9ad-4769-8c92-a6c4dae69d19",
    "_uuid": "8f2839f25d086af736a60e9eeb907d3b93b6e0e5",
    "execution": {
     "iopub.execute_input": "2025-04-13T18:36:49.855609Z",
     "iopub.status.busy": "2025-04-13T18:36:49.854998Z",
     "iopub.status.idle": "2025-04-13T18:36:49.988709Z",
     "shell.execute_reply": "2025-04-13T18:36:49.988103Z",
     "shell.execute_reply.started": "2025-04-13T18:36:49.855557Z"
    },
    "trusted": true
   },
   "outputs": [],
   "source": [
    "import pandas as pd\n",
    "from sklearn.model_selection import train_test_split\n",
    "\n",
    "hindi_train = pd.read_csv(\"/kaggle/input/hertlex-hindi-data/hindi_train.csv\")\n"
   ]
  },
  {
   "cell_type": "code",
   "execution_count": null,
   "metadata": {
    "execution": {
     "iopub.execute_input": "2025-04-13T18:36:52.547762Z",
     "iopub.status.busy": "2025-04-13T18:36:52.547415Z",
     "iopub.status.idle": "2025-04-13T18:36:52.553091Z",
     "shell.execute_reply": "2025-04-13T18:36:52.552393Z",
     "shell.execute_reply.started": "2025-04-13T18:36:52.547739Z"
    },
    "trusted": true
   },
   "outputs": [],
   "source": [
    "import re,string\n",
    "def normalize_text(text):\n",
    "  # text = text.lower()\n",
    "  emoji_pattern = re.compile(\"[\"\n",
    "                              u\"\\U0001F600-\\U0001F64F\"  \n",
    "                              u\"\\U0001F300-\\U0001F5FF\"  \n",
    "                              u\"\\U0001F680-\\U0001F6FF\"  \n",
    "                              u\"\\U0001F700-\\U0001F77F\"  \n",
    "                              u\"\\U0001F780-\\U0001F7FF\"  \n",
    "                              u\"\\U0001F800-\\U0001F8FF\"  \n",
    "                              u\"\\U0001F900-\\U0001F9FF\"  \n",
    "                              u\"\\U0001FA00-\\U0001FA6F\"  \n",
    "                              u\"\\U0001FA70-\\U0001FAFF\"  \n",
    "                              u\"\\U00002702-\\U000027B0\"  \n",
    "                              u\"\\U000024C2-\\U0001F251\"\n",
    "                              \"]+\", flags=re.UNICODE)\n",
    "  text = text.lower()\n",
    "  text = re.sub('\\[.*?\\]', ' ', text)\n",
    "  text = re.sub('https?://\\S+|www\\.\\S+', ' ', text)\n",
    "  text = re.sub('<.*?>+', ' ', text)\n",
    "  text = re.sub('[%s]' % re.escape(string.punctuation), ' ', text)\n",
    "  text = re.sub('\\n', ' ', text)\n",
    "  text = re.sub('\\w*\\d\\w*', ' ', text)\n",
    "  text = re.sub('<handle replaced>', '', text)\n",
    "  text = emoji_pattern.sub(r'', text)\n",
    "  return text"
   ]
  },
  {
   "cell_type": "code",
   "execution_count": 4,
   "metadata": {
    "execution": {
     "iopub.execute_input": "2025-04-13T18:36:56.378662Z",
     "iopub.status.busy": "2025-04-13T18:36:56.378358Z",
     "iopub.status.idle": "2025-04-13T18:36:56.938842Z",
     "shell.execute_reply": "2025-04-13T18:36:56.937984Z",
     "shell.execute_reply.started": "2025-04-13T18:36:56.378640Z"
    },
    "trusted": true
   },
   "outputs": [
    {
     "data": {
      "text/html": [
       "<div>\n",
       "<style scoped>\n",
       "    .dataframe tbody tr th:only-of-type {\n",
       "        vertical-align: middle;\n",
       "    }\n",
       "\n",
       "    .dataframe tbody tr th {\n",
       "        vertical-align: top;\n",
       "    }\n",
       "\n",
       "    .dataframe thead th {\n",
       "        text-align: right;\n",
       "    }\n",
       "</style>\n",
       "<table border=\"1\" class=\"dataframe\">\n",
       "  <thead>\n",
       "    <tr style=\"text-align: right;\">\n",
       "      <th></th>\n",
       "      <th>label</th>\n",
       "      <th>text</th>\n",
       "    </tr>\n",
       "  </thead>\n",
       "  <tbody>\n",
       "    <tr>\n",
       "      <th>0</th>\n",
       "      <td>1</td>\n",
       "      <td>जन्म दिन मुबारक हो</td>\n",
       "    </tr>\n",
       "    <tr>\n",
       "      <th>1</th>\n",
       "      <td>0</td>\n",
       "      <td>तेरी मां की चोदो साला तू ने केसे कह दिया तू सा...</td>\n",
       "    </tr>\n",
       "    <tr>\n",
       "      <th>2</th>\n",
       "      <td>0</td>\n",
       "      <td>रंडी दूसरे से कहने से पहले अपना लैंग्वेज सुधार...</td>\n",
       "    </tr>\n",
       "    <tr>\n",
       "      <th>3</th>\n",
       "      <td>0</td>\n",
       "      <td>मुझे तो हिजड़ा सा लग रहा है</td>\n",
       "    </tr>\n",
       "    <tr>\n",
       "      <th>4</th>\n",
       "      <td>1</td>\n",
       "      <td>आप अजमेर शरीफ मे थे मेरे दोस्त इमरान के साथ फो...</td>\n",
       "    </tr>\n",
       "    <tr>\n",
       "      <th>...</th>\n",
       "      <td>...</td>\n",
       "      <td>...</td>\n",
       "    </tr>\n",
       "    <tr>\n",
       "      <th>26906</th>\n",
       "      <td>0</td>\n",
       "      <td>नाम मोदी  काम बकचोदी</td>\n",
       "    </tr>\n",
       "    <tr>\n",
       "      <th>26907</th>\n",
       "      <td>1</td>\n",
       "      <td>मेरी बेटी का neetमें सिलेक्शन हो जाए ए मां दुर्गा</td>\n",
       "    </tr>\n",
       "    <tr>\n",
       "      <th>26908</th>\n",
       "      <td>1</td>\n",
       "      <td>स्त्री हे क क्या मतलब</td>\n",
       "    </tr>\n",
       "    <tr>\n",
       "      <th>26909</th>\n",
       "      <td>0</td>\n",
       "      <td>जो बचे कपडे हे वो भी निकाल दे तकी ओर ilke ओर फ...</td>\n",
       "    </tr>\n",
       "    <tr>\n",
       "      <th>26910</th>\n",
       "      <td>1</td>\n",
       "      <td>मैं मानता हूं कि लड़का गलती की है लेकिन इसमें ...</td>\n",
       "    </tr>\n",
       "  </tbody>\n",
       "</table>\n",
       "<p>26911 rows × 2 columns</p>\n",
       "</div>"
      ],
      "text/plain": [
       "       label                                               text\n",
       "0          1                                 जन्म दिन मुबारक हो\n",
       "1          0  तेरी मां की चोदो साला तू ने केसे कह दिया तू सा...\n",
       "2          0  रंडी दूसरे से कहने से पहले अपना लैंग्वेज सुधार...\n",
       "3          0                        मुझे तो हिजड़ा सा लग रहा है\n",
       "4          1  आप अजमेर शरीफ मे थे मेरे दोस्त इमरान के साथ फो...\n",
       "...      ...                                                ...\n",
       "26906      0                               नाम मोदी  काम बकचोदी\n",
       "26907      1  मेरी बेटी का neetमें सिलेक्शन हो जाए ए मां दुर्गा\n",
       "26908      1                         स्त्री हे क क्या मतलब     \n",
       "26909      0  जो बचे कपडे हे वो भी निकाल दे तकी ओर ilke ओर फ...\n",
       "26910      1  मैं मानता हूं कि लड़का गलती की है लेकिन इसमें ...\n",
       "\n",
       "[26911 rows x 2 columns]"
      ]
     },
     "execution_count": 4,
     "metadata": {},
     "output_type": "execute_result"
    }
   ],
   "source": [
    "hindi_train['text'] = hindi_train['text'].apply(lambda x: normalize_text(x))\n",
    "hindi_train"
   ]
  },
  {
   "cell_type": "code",
   "execution_count": 5,
   "metadata": {
    "execution": {
     "iopub.execute_input": "2025-04-13T18:37:02.415164Z",
     "iopub.status.busy": "2025-04-13T18:37:02.414464Z",
     "iopub.status.idle": "2025-04-13T18:37:02.517584Z",
     "shell.execute_reply": "2025-04-13T18:37:02.516977Z",
     "shell.execute_reply.started": "2025-04-13T18:37:02.415130Z"
    },
    "trusted": true
   },
   "outputs": [],
   "source": [
    "hindi_val = pd.read_csv(\"/kaggle/input/hertlex-hindi-data/hindi_val.csv\")\n",
    "hindi_val['text'] = hindi_val['text'].apply(lambda x: normalize_text(x))\n"
   ]
  },
  {
   "cell_type": "code",
   "execution_count": 6,
   "metadata": {
    "execution": {
     "iopub.execute_input": "2025-04-13T18:37:05.807335Z",
     "iopub.status.busy": "2025-04-13T18:37:05.807054Z",
     "iopub.status.idle": "2025-04-13T18:37:10.259998Z",
     "shell.execute_reply": "2025-04-13T18:37:10.259213Z",
     "shell.execute_reply.started": "2025-04-13T18:37:05.807314Z"
    },
    "trusted": true
   },
   "outputs": [
    {
     "name": "stderr",
     "output_type": "stream",
     "text": [
      "[nltk_data] Downloading package punkt to /usr/share/nltk_data...\n",
      "[nltk_data]   Package punkt is already up-to-date!\n"
     ]
    },
    {
     "data": {
      "text/plain": [
       "True"
      ]
     },
     "execution_count": 6,
     "metadata": {},
     "output_type": "execute_result"
    }
   ],
   "source": [
    "import torch\n",
    "import torch.nn as nn\n",
    "import torch.optim as optim\n",
    "from torch.utils.data import Dataset, DataLoader\n",
    "import pandas as pd\n",
    "import numpy as np\n",
    "from tqdm import tqdm\n",
    "from sklearn.metrics import f1_score\n",
    "from sklearn.model_selection import train_test_split\n",
    "import re\n",
    "from nltk.tokenize import word_tokenize\n",
    "import nltk\n",
    "nltk.download('punkt')"
   ]
  },
  {
   "cell_type": "code",
   "execution_count": 7,
   "metadata": {
    "execution": {
     "iopub.execute_input": "2025-04-13T18:37:13.420182Z",
     "iopub.status.busy": "2025-04-13T18:37:13.419406Z",
     "iopub.status.idle": "2025-04-13T18:37:13.423610Z",
     "shell.execute_reply": "2025-04-13T18:37:13.422978Z",
     "shell.execute_reply.started": "2025-04-13T18:37:13.420155Z"
    },
    "trusted": true
   },
   "outputs": [],
   "source": [
    "def clean_text(text):\n",
    "    text = normalize_text(text)\n",
    "    return word_tokenize(text)\n"
   ]
  },
  {
   "cell_type": "code",
   "execution_count": 8,
   "metadata": {
    "execution": {
     "iopub.execute_input": "2025-04-13T18:37:17.475021Z",
     "iopub.status.busy": "2025-04-13T18:37:17.474227Z",
     "iopub.status.idle": "2025-04-13T18:37:20.544685Z",
     "shell.execute_reply": "2025-04-13T18:37:20.544095Z",
     "shell.execute_reply.started": "2025-04-13T18:37:17.474985Z"
    },
    "trusted": true
   },
   "outputs": [],
   "source": [
    "all_text = hindi_train['text'].tolist() + hindi_val['text'].tolist()\n",
    "tokenized_texts = [clean_text(t) for t in all_text]\n",
    "vocab = {'<PAD>': 0, '<UNK>': 1}\n",
    "for sentence in tokenized_texts:\n",
    "    for word in sentence:\n",
    "        if word not in vocab:\n",
    "            vocab[word] = len(vocab)"
   ]
  },
  {
   "cell_type": "code",
   "execution_count": 9,
   "metadata": {
    "execution": {
     "iopub.execute_input": "2025-04-13T18:37:24.294906Z",
     "iopub.status.busy": "2025-04-13T18:37:24.294325Z",
     "iopub.status.idle": "2025-04-13T18:37:24.299764Z",
     "shell.execute_reply": "2025-04-13T18:37:24.299153Z",
     "shell.execute_reply.started": "2025-04-13T18:37:24.294883Z"
    },
    "trusted": true
   },
   "outputs": [],
   "source": [
    "def load_glove(file_path, vocab, embedding_dim=100):\n",
    "    embeddings_index = {}\n",
    "    with open(file_path, 'r', encoding='utf-8') as f:\n",
    "        for line in f:\n",
    "            values = line.split()\n",
    "            word = values[0]\n",
    "            vector = np.asarray(values[1:], dtype='float32')\n",
    "            embeddings_index[word] = vector\n",
    "\n",
    "    embedding_matrix = np.zeros((len(vocab), embedding_dim))\n",
    "    for word, idx in vocab.items():\n",
    "        embedding_vector = embeddings_index.get(word)\n",
    "        if embedding_vector is not None:\n",
    "            embedding_matrix[idx] = embedding_vector\n",
    "        else:\n",
    "            embedding_matrix[idx] = np.random.normal(scale=0.6, size=(embedding_dim,))\n",
    "    return torch.tensor(embedding_matrix, dtype=torch.float32)\n"
   ]
  },
  {
   "cell_type": "code",
   "execution_count": 11,
   "metadata": {
    "execution": {
     "iopub.execute_input": "2025-04-13T18:41:14.350517Z",
     "iopub.status.busy": "2025-04-13T18:41:14.349821Z",
     "iopub.status.idle": "2025-04-13T18:43:12.607609Z",
     "shell.execute_reply": "2025-04-13T18:43:12.607021Z",
     "shell.execute_reply.started": "2025-04-13T18:41:14.350489Z"
    },
    "trusted": true
   },
   "outputs": [],
   "source": [
    "embedding_dim = 300\n",
    "glove_path = \"/kaggle/input/hertlex-hindi-data/cc.hi.300.vec\"  # Update if needed\n",
    "embedding_matrix = load_glove(glove_path, vocab, embedding_dim)\n"
   ]
  },
  {
   "cell_type": "code",
   "execution_count": null,
   "metadata": {
    "execution": {
     "iopub.execute_input": "2025-04-13T18:44:01.156854Z",
     "iopub.status.busy": "2025-04-13T18:44:01.156548Z",
     "iopub.status.idle": "2025-04-13T18:44:01.162857Z",
     "shell.execute_reply": "2025-04-13T18:44:01.162108Z",
     "shell.execute_reply.started": "2025-04-13T18:44:01.156833Z"
    },
    "trusted": true
   },
   "outputs": [],
   "source": [
    "class TextDataset(Dataset):\n",
    "    def __init__(self, dataframe, word2idx, max_len):\n",
    "        self.texts = dataframe['text'].tolist()\n",
    "        self.labels = dataframe['label'].tolist()\n",
    "        self.vocab = word2idx\n",
    "        self.max_len = max_len\n",
    "\n",
    "    def __len__(self):\n",
    "        return len(self.texts)\n",
    "\n",
    "\n",
    "\n",
    "    def __getitem__(self, idx):\n",
    "        tokens = clean_text(self.texts[idx])\n",
    "        ids = [self.vocab.get(w, self.vocab['<UNK>']) for w in tokens]\n",
    "        if len(ids) < self.max_len:\n",
    "            ids += [self.vocab['<PAD>']] * (self.max_len - len(ids))\n",
    "        else:\n",
    "            ids = ids[:self.max_len]\n",
    "        return torch.tensor(ids), torch.tensor(self.labels[idx])"
   ]
  },
  {
   "cell_type": "code",
   "execution_count": 13,
   "metadata": {
    "execution": {
     "iopub.execute_input": "2025-04-13T18:44:05.589424Z",
     "iopub.status.busy": "2025-04-13T18:44:05.589107Z",
     "iopub.status.idle": "2025-04-13T18:44:05.596148Z",
     "shell.execute_reply": "2025-04-13T18:44:05.595339Z",
     "shell.execute_reply.started": "2025-04-13T18:44:05.589400Z"
    },
    "trusted": true
   },
   "outputs": [],
   "source": [
    "\n",
    "train_dataset = TextDataset(hindi_train, vocab,max_len=100)\n",
    "val_dataset = TextDataset(hindi_val, vocab,max_len=100)\n",
    "\n",
    "train_loader = DataLoader(train_dataset, batch_size=32, shuffle=True)\n",
    "val_loader = DataLoader(val_dataset, batch_size=32)"
   ]
  },
  {
   "cell_type": "code",
   "execution_count": null,
   "metadata": {
    "execution": {
     "iopub.execute_input": "2025-04-13T18:44:12.799970Z",
     "iopub.status.busy": "2025-04-13T18:44:12.799418Z",
     "iopub.status.idle": "2025-04-13T18:44:12.806538Z",
     "shell.execute_reply": "2025-04-13T18:44:12.805842Z",
     "shell.execute_reply.started": "2025-04-13T18:44:12.799943Z"
    },
    "trusted": true
   },
   "outputs": [],
   "source": [
    "class CNNBiLSTMClassifier(nn.Module):\n",
    "    \n",
    "\n",
    "    def __init__(self, embedding_matrix):\n",
    "        super(CNNBiLSTMClassifier, self).__init__()\n",
    "        vocab_size, embed_size = embedding_matrix.shape\n",
    "        self.embedding = nn.Embedding(vocab_size, embed_size)\n",
    "        self.embedding.weight = nn.Parameter(torch.tensor(embedding_matrix, dtype=torch.float32))\n",
    "        self.embedding.weight.requires_grad = False\n",
    "        self.dropout1 = nn.Dropout(0.1)\n",
    "        self.conv1 = nn.Conv1d(embed_size, 64, kernel_size=2)\n",
    "        self.lstm = nn.LSTM(64, 128, batch_first=True, bidirectional=True)\n",
    "        self.avgpool = nn.AdaptiveAvgPool1d(1)\n",
    "        self.fc = nn.Linear(256, 128)\n",
    "        self.dropout2 = nn.Dropout(0.1)\n",
    "        self.out = nn.Linear(128, 2)\n",
    "\n",
    "    def forward(self, x):\n",
    "        x = self.embedding(x)\n",
    "        x = self.dropout1(x)\n",
    "        x = x.permute(0, 2, 1)\n",
    "        x = self.conv1(x)\n",
    "        x = x.permute(0, 2, 1)\n",
    "        x, _ = self.lstm(x)\n",
    "        x = x.permute(0, 2, 1)\n",
    "        x = self.avgpool(x).squeeze(2)\n",
    "        x = torch.relu(self.fc(x))\n",
    "        x = self.dropout2(x)\n",
    "        return self.out(x)"
   ]
  },
  {
   "cell_type": "code",
   "execution_count": 15,
   "metadata": {
    "execution": {
     "iopub.execute_input": "2025-04-13T18:44:17.147397Z",
     "iopub.status.busy": "2025-04-13T18:44:17.147101Z",
     "iopub.status.idle": "2025-04-13T18:44:19.954769Z",
     "shell.execute_reply": "2025-04-13T18:44:19.954184Z",
     "shell.execute_reply.started": "2025-04-13T18:44:17.147374Z"
    },
    "trusted": true
   },
   "outputs": [
    {
     "name": "stderr",
     "output_type": "stream",
     "text": [
      "/tmp/ipykernel_31/715384467.py:28: UserWarning: To copy construct from a tensor, it is recommended to use sourceTensor.clone().detach() or sourceTensor.clone().detach().requires_grad_(True), rather than torch.tensor(sourceTensor).\n",
      "  self.embedding.weight = nn.Parameter(torch.tensor(embedding_matrix, dtype=torch.float32))\n"
     ]
    }
   ],
   "source": [
    "device = torch.device(\"cuda\" if torch.cuda.is_available() else \"cpu\")\n",
    "model = CNNBiLSTMClassifier(embedding_matrix).to(device)\n",
    "criterion = nn.CrossEntropyLoss()\n",
    "optimizer = optim.Adam(model.parameters(), lr=0.001)\n"
   ]
  },
  {
   "cell_type": "code",
   "execution_count": 16,
   "metadata": {
    "execution": {
     "iopub.execute_input": "2025-04-13T18:44:26.123686Z",
     "iopub.status.busy": "2025-04-13T18:44:26.122824Z",
     "iopub.status.idle": "2025-04-13T18:44:26.129554Z",
     "shell.execute_reply": "2025-04-13T18:44:26.128872Z",
     "shell.execute_reply.started": "2025-04-13T18:44:26.123652Z"
    },
    "trusted": true
   },
   "outputs": [],
   "source": [
    "def train_epoch(model, loader, optimizer, criterion):\n",
    "    model.train()\n",
    "    total_loss = 0\n",
    "    for inputs,labels in tqdm(loader, desc=\"Training\"):\n",
    "        inputs, labels = inputs.to(device), labels.to(device)\n",
    "        optimizer.zero_grad()\n",
    "        outputs = model(inputs)\n",
    "        loss = criterion(outputs, labels)\n",
    "        loss.backward()\n",
    "        optimizer.step()\n",
    "        total_loss += loss.item()\n",
    "    return total_loss / len(loader)\n",
    "\n",
    "def eval_model(model, loader):\n",
    "    model.eval()\n",
    "    preds, targets = [], []\n",
    "    with torch.no_grad():\n",
    "        for inputs , labels in tqdm(loader, desc=\"Evaluating\"):\n",
    "            inputs, labels = inputs.to(device), labels.to(device)\n",
    "            outputs = model(inputs)\n",
    "            pred = torch.argmax(outputs, dim=1)\n",
    "            preds.extend(pred.cpu().numpy())\n",
    "            targets.extend(labels.cpu().numpy())\n",
    "    return f1_score(targets, preds, average='macro')\n"
   ]
  },
  {
   "cell_type": "code",
   "execution_count": 17,
   "metadata": {
    "execution": {
     "iopub.execute_input": "2025-04-13T18:44:32.507132Z",
     "iopub.status.busy": "2025-04-13T18:44:32.506505Z",
     "iopub.status.idle": "2025-04-13T18:45:44.415361Z",
     "shell.execute_reply": "2025-04-13T18:45:44.414609Z",
     "shell.execute_reply.started": "2025-04-13T18:44:32.507106Z"
    },
    "trusted": true
   },
   "outputs": [
    {
     "name": "stdout",
     "output_type": "stream",
     "text": [
      "\n",
      "Epoch 1\n"
     ]
    },
    {
     "name": "stderr",
     "output_type": "stream",
     "text": [
      "Training: 100%|██████████| 841/841 [00:09<00:00, 92.63it/s] \n",
      "Evaluating: 100%|██████████| 106/106 [00:00<00:00, 147.51it/s]\n"
     ]
    },
    {
     "name": "stdout",
     "output_type": "stream",
     "text": [
      "Train Loss: 0.6595 | Val F1: 0.7258\n",
      "\n",
      "Epoch 2\n"
     ]
    },
    {
     "name": "stderr",
     "output_type": "stream",
     "text": [
      "Training: 100%|██████████| 841/841 [00:08<00:00, 103.32it/s]\n",
      "Evaluating: 100%|██████████| 106/106 [00:00<00:00, 150.33it/s]\n"
     ]
    },
    {
     "name": "stdout",
     "output_type": "stream",
     "text": [
      "Train Loss: 0.4916 | Val F1: 0.7720\n",
      "\n",
      "Epoch 3\n"
     ]
    },
    {
     "name": "stderr",
     "output_type": "stream",
     "text": [
      "Training: 100%|██████████| 841/841 [00:08<00:00, 102.67it/s]\n",
      "Evaluating: 100%|██████████| 106/106 [00:00<00:00, 152.07it/s]\n"
     ]
    },
    {
     "name": "stdout",
     "output_type": "stream",
     "text": [
      "Train Loss: 0.4345 | Val F1: 0.8052\n",
      "\n",
      "Epoch 4\n"
     ]
    },
    {
     "name": "stderr",
     "output_type": "stream",
     "text": [
      "Training: 100%|██████████| 841/841 [00:08<00:00, 103.30it/s]\n",
      "Evaluating: 100%|██████████| 106/106 [00:00<00:00, 154.93it/s]\n"
     ]
    },
    {
     "name": "stdout",
     "output_type": "stream",
     "text": [
      "Train Loss: 0.4100 | Val F1: 0.8082\n",
      "\n",
      "Epoch 5\n"
     ]
    },
    {
     "name": "stderr",
     "output_type": "stream",
     "text": [
      "Training: 100%|██████████| 841/841 [00:08<00:00, 102.72it/s]\n",
      "Evaluating: 100%|██████████| 106/106 [00:00<00:00, 157.55it/s]\n"
     ]
    },
    {
     "name": "stdout",
     "output_type": "stream",
     "text": [
      "Train Loss: 0.3932 | Val F1: 0.8098\n",
      "\n",
      "Epoch 6\n"
     ]
    },
    {
     "name": "stderr",
     "output_type": "stream",
     "text": [
      "Training: 100%|██████████| 841/841 [00:08<00:00, 103.57it/s]\n",
      "Evaluating: 100%|██████████| 106/106 [00:00<00:00, 155.30it/s]\n"
     ]
    },
    {
     "name": "stdout",
     "output_type": "stream",
     "text": [
      "Train Loss: 0.3772 | Val F1: 0.8030\n",
      "\n",
      "Epoch 7\n"
     ]
    },
    {
     "name": "stderr",
     "output_type": "stream",
     "text": [
      "Training: 100%|██████████| 841/841 [00:08<00:00, 101.99it/s]\n",
      "Evaluating: 100%|██████████| 106/106 [00:00<00:00, 152.24it/s]\n"
     ]
    },
    {
     "name": "stdout",
     "output_type": "stream",
     "text": [
      "Train Loss: 0.3650 | Val F1: 0.8114\n",
      "\n",
      "Epoch 8\n"
     ]
    },
    {
     "name": "stderr",
     "output_type": "stream",
     "text": [
      "Training: 100%|██████████| 841/841 [00:08<00:00, 103.40it/s]\n",
      "Evaluating: 100%|██████████| 106/106 [00:00<00:00, 157.75it/s]\n"
     ]
    },
    {
     "name": "stdout",
     "output_type": "stream",
     "text": [
      "Train Loss: 0.3541 | Val F1: 0.8146\n"
     ]
    }
   ],
   "source": [
    "for epoch in range(8):\n",
    "    print(f\"\\nEpoch {epoch+1}\")\n",
    "    train_loss = train_epoch(model, train_loader,optimizer, criterion)\n",
    "    val_f1 = eval_model(model, val_loader)\n",
    "    print(f\"Train Loss: {train_loss:.4f} | Val F1: {val_f1:.4f}\")\n",
    "import matplotlib.pyplot as plt\n",
    "train_losses = []\n",
    "val_f1s = []\n",
    "torch.save(model.state_dict(), \"glove_cnn_bilstm_model.pth\")\n",
    "\n",
    "\n"
   ]
  },
  {
   "cell_type": "code",
   "execution_count": null,
   "metadata": {
    "execution": {
     "iopub.execute_input": "2025-04-13T18:45:59.053269Z",
     "iopub.status.busy": "2025-04-13T18:45:59.052996Z",
     "iopub.status.idle": "2025-04-13T18:45:59.059800Z",
     "shell.execute_reply": "2025-04-13T18:45:59.059017Z",
     "shell.execute_reply.started": "2025-04-13T18:45:59.053249Z"
    },
    "trusted": true
   },
   "outputs": [],
   "source": [
    "def data_preprocessing(df, language):\n",
    "    if language == \"tamil\":\n",
    "        annotator_cols = [\"ta_a1\", \"ta_a2\", \"ta_a3\", \"ta_a4\", \"ta_a5\", \"ta_a6\"]\n",
    "    elif language == \"hindi\":\n",
    "        annotator_cols = [\"hi_a1\", \"hi_a2\", \"hi_a3\", \"hi_a4\", \"hi_a5\"]\n",
    "    else:\n",
    "        annotator_cols = [\"en_a1\", \"en_a2\", \"en_a3\", \"en_a4\", \"en_a5\", \"en_a6\"]\n",
    "\n",
    "    df[annotator_cols] = df[annotator_cols].fillna(\"\")\n",
    "\n",
    "    def majority_label(row):\n",
    "        votes = []\n",
    "        for col in annotator_cols:\n",
    "            val = row[col]\n",
    "            try:\n",
    "                if val != \"\":\n",
    "                    num_val = float(val)\n",
    "                    if num_val in [0.0, 1.0]:\n",
    "                        votes.append(int(num_val))\n",
    "            except:\n",
    "                continue\n",
    "        if not votes:\n",
    "            return 0\n",
    "        return 1 if votes.count(1) > votes.count(0) else 0\n",
    "\n",
    "    df[\"label\"] = df.apply(majority_label, axis=1)\n",
    "    df[\"label\"] = df[\"label\"].astype(int)\n",
    "    df = df.drop(columns=annotator_cols + [\"key\"])\n",
    "    print(df[\"label\"].value_counts())\n",
    "    return df\n"
   ]
  },
  {
   "cell_type": "code",
   "execution_count": 19,
   "metadata": {
    "execution": {
     "iopub.execute_input": "2025-04-13T18:46:07.187749Z",
     "iopub.status.busy": "2025-04-13T18:46:07.187232Z",
     "iopub.status.idle": "2025-04-13T18:46:07.503434Z",
     "shell.execute_reply": "2025-04-13T18:46:07.502683Z",
     "shell.execute_reply.started": "2025-04-13T18:46:07.187723Z"
    },
    "trusted": true
   },
   "outputs": [
    {
     "name": "stdout",
     "output_type": "stream",
     "text": [
      "Rows: 6197, Columns: 7\n",
      "label\n",
      "0    4437\n",
      "1    1760\n",
      "Name: count, dtype: int64\n",
      "Rows: 6197, Columns: 2\n"
     ]
    }
   ],
   "source": [
    "df_hindi = pd.read_csv(\"/kaggle/input/hertlex-hindi-data/train_hi_l1.csv\")\n",
    "rows, columns = df_hindi.shape\n",
    "print(f\"Rows: {rows}, Columns: {columns}\")\n",
    "hindi_train_gender = data_preprocessing(df_hindi,\"hindi\")\n",
    "hindi_train_gender['text'] = hindi_train_gender['text'].apply(lambda x: normalize_text(x))\n",
    "rows, columns = hindi_train_gender.shape\n",
    "print(f\"Rows: {rows}, Columns: {columns}\")\n"
   ]
  },
  {
   "cell_type": "code",
   "execution_count": 20,
   "metadata": {
    "execution": {
     "iopub.execute_input": "2025-04-13T18:46:11.558970Z",
     "iopub.status.busy": "2025-04-13T18:46:11.558699Z",
     "iopub.status.idle": "2025-04-13T18:46:11.563269Z",
     "shell.execute_reply": "2025-04-13T18:46:11.562596Z",
     "shell.execute_reply.started": "2025-04-13T18:46:11.558950Z"
    },
    "trusted": true
   },
   "outputs": [],
   "source": [
    "gendered_train_dataset = TextDataset(hindi_train_gender, vocab,max_len=100)\n",
    "gendered_train_loader = DataLoader(gendered_train_dataset, batch_size=32, shuffle=True)\n"
   ]
  },
  {
   "cell_type": "code",
   "execution_count": 21,
   "metadata": {
    "execution": {
     "iopub.execute_input": "2025-04-13T18:46:15.049618Z",
     "iopub.status.busy": "2025-04-13T18:46:15.049034Z",
     "iopub.status.idle": "2025-04-13T18:46:15.176874Z",
     "shell.execute_reply": "2025-04-13T18:46:15.176036Z",
     "shell.execute_reply.started": "2025-04-13T18:46:15.049590Z"
    },
    "trusted": true
   },
   "outputs": [
    {
     "name": "stdout",
     "output_type": "stream",
     "text": [
      "\n",
      "Loaded Stage 1 model weights (hate speech) for fine-tuning.\n"
     ]
    },
    {
     "name": "stderr",
     "output_type": "stream",
     "text": [
      "/tmp/ipykernel_31/715384467.py:28: UserWarning: To copy construct from a tensor, it is recommended to use sourceTensor.clone().detach() or sourceTensor.clone().detach().requires_grad_(True), rather than torch.tensor(sourceTensor).\n",
      "  self.embedding.weight = nn.Parameter(torch.tensor(embedding_matrix, dtype=torch.float32))\n",
      "/tmp/ipykernel_31/3342368148.py:4: FutureWarning: You are using `torch.load` with `weights_only=False` (the current default value), which uses the default pickle module implicitly. It is possible to construct malicious pickle data which will execute arbitrary code during unpickling (See https://github.com/pytorch/pytorch/blob/main/SECURITY.md#untrusted-models for more details). In a future release, the default value for `weights_only` will be flipped to `True`. This limits the functions that could be executed during unpickling. Arbitrary objects will no longer be allowed to be loaded via this mode unless they are explicitly allowlisted by the user via `torch.serialization.add_safe_globals`. We recommend you start setting `weights_only=True` for any use case where you don't have full control of the loaded file. Please open an issue on GitHub for any issues related to this experimental feature.\n",
      "  model.load_state_dict(torch.load(\"/kaggle/working/glove_cnn_bilstm_model.pth\"))\n"
     ]
    }
   ],
   "source": [
    "device = torch.device(\"cuda\" if torch.cuda.is_available() else \"cpu\")\n",
    "\n",
    "model = CNNBiLSTMClassifier(embedding_matrix).to(device)\n",
    "model.load_state_dict(torch.load(\"/kaggle/working/glove_cnn_bilstm_model.pth\"))\n",
    "print(\"\\nLoaded Stage 1 model weights (hate speech) for fine-tuning.\")\n"
   ]
  },
  {
   "cell_type": "code",
   "execution_count": null,
   "metadata": {
    "execution": {
     "iopub.execute_input": "2025-04-13T18:46:59.193063Z",
     "iopub.status.busy": "2025-04-13T18:46:59.192510Z",
     "iopub.status.idle": "2025-04-13T18:47:18.204786Z",
     "shell.execute_reply": "2025-04-13T18:47:18.203960Z",
     "shell.execute_reply.started": "2025-04-13T18:46:59.193039Z"
    },
    "trusted": true
   },
   "outputs": [
    {
     "name": "stderr",
     "output_type": "stream",
     "text": [
      "Training Stage 2 - Epoch 1: 100%|██████████| 194/194 [00:02<00:00, 81.72it/s, loss=0.545]\n"
     ]
    },
    {
     "name": "stdout",
     "output_type": "stream",
     "text": [
      "Epoch 1 Average Loss: 0.5743\n"
     ]
    },
    {
     "name": "stderr",
     "output_type": "stream",
     "text": [
      "Training Stage 2 - Epoch 2: 100%|██████████| 194/194 [00:02<00:00, 78.79it/s, loss=0.46] \n"
     ]
    },
    {
     "name": "stdout",
     "output_type": "stream",
     "text": [
      "Epoch 2 Average Loss: 0.5665\n"
     ]
    },
    {
     "name": "stderr",
     "output_type": "stream",
     "text": [
      "Training Stage 2 - Epoch 3: 100%|██████████| 194/194 [00:02<00:00, 83.95it/s, loss=0.527]\n"
     ]
    },
    {
     "name": "stdout",
     "output_type": "stream",
     "text": [
      "Epoch 3 Average Loss: 0.5587\n"
     ]
    },
    {
     "name": "stderr",
     "output_type": "stream",
     "text": [
      "Training Stage 2 - Epoch 4: 100%|██████████| 194/194 [00:02<00:00, 83.63it/s, loss=0.688]\n"
     ]
    },
    {
     "name": "stdout",
     "output_type": "stream",
     "text": [
      "Epoch 4 Average Loss: 0.5559\n"
     ]
    },
    {
     "name": "stderr",
     "output_type": "stream",
     "text": [
      "Training Stage 2 - Epoch 5: 100%|██████████| 194/194 [00:02<00:00, 81.57it/s, loss=0.499]\n"
     ]
    },
    {
     "name": "stdout",
     "output_type": "stream",
     "text": [
      "Epoch 5 Average Loss: 0.5500\n"
     ]
    },
    {
     "name": "stderr",
     "output_type": "stream",
     "text": [
      "Training Stage 2 - Epoch 6: 100%|██████████| 194/194 [00:02<00:00, 83.49it/s, loss=0.592]\n"
     ]
    },
    {
     "name": "stdout",
     "output_type": "stream",
     "text": [
      "Epoch 6 Average Loss: 0.5470\n"
     ]
    },
    {
     "name": "stderr",
     "output_type": "stream",
     "text": [
      "Training Stage 2 - Epoch 7: 100%|██████████| 194/194 [00:02<00:00, 82.29it/s, loss=0.647]\n"
     ]
    },
    {
     "name": "stdout",
     "output_type": "stream",
     "text": [
      "Epoch 7 Average Loss: 0.5428\n"
     ]
    },
    {
     "name": "stderr",
     "output_type": "stream",
     "text": [
      "Training Stage 2 - Epoch 8: 100%|██████████| 194/194 [00:02<00:00, 82.32it/s, loss=0.523]\n"
     ]
    },
    {
     "name": "stdout",
     "output_type": "stream",
     "text": [
      "Epoch 8 Average Loss: 0.5406\n",
      "✅ Stage 2 Model Saved: stage2_gendered_abuse.pth\n"
     ]
    }
   ],
   "source": [
    "def train_stage2(model, train_loader, epochs=8):\n",
    "    model.train()\n",
    "    optimizer = torch.optim.Adam(model.parameters(), lr=1e-4)\n",
    "    criterion = nn.CrossEntropyLoss()\n",
    "\n",
    "    for epoch in range(epochs):\n",
    "        total_loss = 0.0\n",
    "        loop = tqdm(train_loader, desc=f\"Training Stage 2 - Epoch {epoch+1}\")\n",
    "        for inputs,labels in loop:\n",
    "            optimizer.zero_grad()\n",
    "            inputs,labels = inputs.to(device),labels.to(device)\n",
    "\n",
    "            outputs = model(inputs)\n",
    "            loss = criterion(outputs, labels)\n",
    "            loss.backward()\n",
    "            optimizer.step()\n",
    "            total_loss += loss.item()\n",
    "            loop.set_postfix(loss=loss.item())\n",
    "\n",
    "        avg_loss = total_loss / len(train_loader)\n",
    "        print(f\"Epoch {epoch+1} Average Loss: {avg_loss:.4f}\")\n",
    "        \n",
    "    torch.save(model.state_dict(), \"stage2_gendered_abuse.pth\")\n",
    "    print(\"Stage 2 Model Saved: stage2_gendered_abuse.pth\")\n",
    "\n",
    "train_stage2(model, gendered_train_loader)\n"
   ]
  },
  {
   "cell_type": "code",
   "execution_count": null,
   "metadata": {
    "execution": {
     "iopub.execute_input": "2025-04-13T18:47:22.826468Z",
     "iopub.status.busy": "2025-04-13T18:47:22.825987Z",
     "iopub.status.idle": "2025-04-13T18:47:23.390316Z",
     "shell.execute_reply": "2025-04-13T18:47:23.389613Z",
     "shell.execute_reply.started": "2025-04-13T18:47:22.826445Z"
    },
    "trusted": true
   },
   "outputs": [
    {
     "name": "stderr",
     "output_type": "stream",
     "text": [
      "/tmp/ipykernel_31/715384467.py:28: UserWarning: To copy construct from a tensor, it is recommended to use sourceTensor.clone().detach() or sourceTensor.clone().detach().requires_grad_(True), rather than torch.tensor(sourceTensor).\n",
      "  self.embedding.weight = nn.Parameter(torch.tensor(embedding_matrix, dtype=torch.float32))\n",
      "/tmp/ipykernel_31/1130496522.py:13: FutureWarning: You are using `torch.load` with `weights_only=False` (the current default value), which uses the default pickle module implicitly. It is possible to construct malicious pickle data which will execute arbitrary code during unpickling (See https://github.com/pytorch/pytorch/blob/main/SECURITY.md#untrusted-models for more details). In a future release, the default value for `weights_only` will be flipped to `True`. This limits the functions that could be executed during unpickling. Arbitrary objects will no longer be allowed to be loaded via this mode unless they are explicitly allowlisted by the user via `torch.serialization.add_safe_globals`. We recommend you start setting `weights_only=True` for any use case where you don't have full control of the loaded file. Please open an issue on GitHub for any issues related to this experimental feature.\n",
      "  model.load_state_dict(torch.load(\"/kaggle/working/stage2_gendered_abuse.pth\"))\n"
     ]
    },
    {
     "name": "stdout",
     "output_type": "stream",
     "text": [
      "Test Set: (1517, 7)\n",
      "label\n",
      "0    1159\n",
      "1     358\n",
      "Name: count, dtype: int64\n"
     ]
    },
    {
     "name": "stderr",
     "output_type": "stream",
     "text": [
      "Training Stage 2 - Epoch 8: 100%|██████████| 48/48 [00:00<00:00, 137.14it/s]"
     ]
    },
    {
     "name": "stdout",
     "output_type": "stream",
     "text": [
      "\n",
      "Test F1 Score (Macro): 0.5899\n",
      "\n",
      "Classification Report:\n",
      "               precision    recall  f1-score   support\n",
      "\n",
      "           0     0.7976    0.9215    0.8551      1159\n",
      "           1     0.4888    0.2430    0.3246       358\n",
      "\n",
      "    accuracy                         0.7614      1517\n",
      "   macro avg     0.6432    0.5823    0.5899      1517\n",
      "weighted avg     0.7247    0.7614    0.7299      1517\n",
      "\n",
      "✅ Final Gendered Abuse Test F1 Score (Macro): 0.5899\n"
     ]
    },
    {
     "name": "stderr",
     "output_type": "stream",
     "text": [
      "\n"
     ]
    }
   ],
   "source": [
    "from sklearn.metrics import f1_score, classification_report\n",
    "df_hindi_test = pd.read_csv(\"/kaggle/input/hertlex-hindi-data/test_hi_l1.csv\", engine='python')\n",
    "print(\"Test Set:\", df_hindi_test.shape)\n",
    "hindi_test_gender = data_preprocessing(df_hindi_test, \"hindi\")\n",
    "hindi_test_gender[\"text\"] = hindi_test_gender[\"text\"].apply(lambda x: normalize_text(x))\n",
    "\n",
    "gendered_test_dataset = TextDataset(hindi_test_gender, vocab,max_len=100)\n",
    "gendered_test_loader = DataLoader(gendered_test_dataset, batch_size=32,shuffle=True)\n",
    "\n",
    "model = CNNBiLSTMClassifier(embedding_matrix).to(device)\n",
    "model.load_state_dict(torch.load(\"/kaggle/working/stage2_gendered_abuse.pth\"))\n",
    "model.eval()\n",
    "\n",
    "def inference_on_gendered_abuse_test(model, test_loader):\n",
    "    model.eval()\n",
    "    all_preds = []\n",
    "    all_labels = []\n",
    "\n",
    "    with torch.no_grad():\n",
    "        \n",
    "        loop = tqdm(test_loader, desc=f\"Training Stage 2 - Epoch {epoch+1}\")\n",
    "        for inputs,labels in loop:\n",
    "            inputs,labels = inputs.to(device),labels.to(device)\n",
    "\n",
    "\n",
    "\n",
    "            outputs = model(inputs)\n",
    "            preds = torch.argmax(outputs, dim=1)\n",
    "\n",
    "            all_preds.extend(preds.cpu().numpy())\n",
    "            all_labels.extend(labels.cpu().numpy())\n",
    "\n",
    "    f1_macro = f1_score(all_labels, all_preds, average='macro')\n",
    "    print(f\"\\nTest F1 Score (Macro): {f1_macro:.4f}\")\n",
    "    print(\"\\nClassification Report:\\n\", classification_report(all_labels, all_preds, digits=4))\n",
    "    return f1_macro\n",
    "\n",
    "f1_macro_test = inference_on_gendered_abuse_test(model, gendered_test_loader)\n",
    "print(f\" Final Gendered Abuse Test F1 Score (Macro): {f1_macro_test:.4f}\")\n"
   ]
  }
 ],
 "metadata": {
  "kaggle": {
   "accelerator": "gpu",
   "dataSources": [
    {
     "datasetId": 7129286,
     "sourceId": 11392047,
     "sourceType": "datasetVersion"
    }
   ],
   "dockerImageVersionId": 31011,
   "isGpuEnabled": true,
   "isInternetEnabled": true,
   "language": "python",
   "sourceType": "notebook"
  },
  "kernelspec": {
   "display_name": "Python 3",
   "language": "python",
   "name": "python3"
  },
  "language_info": {
   "codemirror_mode": {
    "name": "ipython",
    "version": 3
   },
   "file_extension": ".py",
   "mimetype": "text/x-python",
   "name": "python",
   "nbconvert_exporter": "python",
   "pygments_lexer": "ipython3",
   "version": "3.11.11"
  }
 },
 "nbformat": 4,
 "nbformat_minor": 4
}
