{
 "cells": [
  {
   "cell_type": "code",
   "execution_count": 68,
   "metadata": {
    "_cell_guid": "b1076dfc-b9ad-4769-8c92-a6c4dae69d19",
    "_uuid": "8f2839f25d086af736a60e9eeb907d3b93b6e0e5",
    "execution": {
     "iopub.execute_input": "2025-04-13T19:55:25.297295Z",
     "iopub.status.busy": "2025-04-13T19:55:25.296380Z",
     "iopub.status.idle": "2025-04-13T19:55:25.342558Z",
     "shell.execute_reply": "2025-04-13T19:55:25.341820Z",
     "shell.execute_reply.started": "2025-04-13T19:55:25.297266Z"
    },
    "trusted": true
   },
   "outputs": [],
   "source": [
    "import pandas as pd\n",
    "from sklearn.model_selection import train_test_split\n",
    "\n",
    "eng_df = pd.read_csv(\"/kaggle/input/hertlex-hindi-data/english_dataset.tsv\",sep='\\t')\n",
    "\n",
    "eng_df = eng_df.drop(columns=['text_id','task_2', 'task_3'])"
   ]
  },
  {
   "cell_type": "code",
   "execution_count": 69,
   "metadata": {
    "execution": {
     "iopub.execute_input": "2025-04-13T19:55:29.289439Z",
     "iopub.status.busy": "2025-04-13T19:55:29.289007Z",
     "iopub.status.idle": "2025-04-13T19:55:29.299953Z",
     "shell.execute_reply": "2025-04-13T19:55:29.299178Z",
     "shell.execute_reply.started": "2025-04-13T19:55:29.289413Z"
    },
    "trusted": true
   },
   "outputs": [],
   "source": [
    "eng_df = eng_df.rename(columns={'task_1': 'label'})\n",
    "label_map = {'NOT': 0, 'HOF': 1}\n",
    "eng_df['label'] = eng_df['label'].map(label_map)\n",
    "eng_df.head\n",
    "eng_train, eng_val = train_test_split(eng_df, test_size=0.3, random_state=42, shuffle=True)\n"
   ]
  },
  {
   "cell_type": "code",
   "execution_count": null,
   "metadata": {
    "execution": {
     "iopub.execute_input": "2025-04-13T19:55:33.975044Z",
     "iopub.status.busy": "2025-04-13T19:55:33.974292Z",
     "iopub.status.idle": "2025-04-13T19:55:33.980370Z",
     "shell.execute_reply": "2025-04-13T19:55:33.979526Z",
     "shell.execute_reply.started": "2025-04-13T19:55:33.975022Z"
    },
    "trusted": true
   },
   "outputs": [],
   "source": [
    "import re,string\n",
    "def normalize_text(text):\n",
    "  # text = text.lower()\n",
    "  emoji_pattern = re.compile(\"[\"\n",
    "                              u\"\\U0001F600-\\U0001F64F\"  \n",
    "                              u\"\\U0001F300-\\U0001F5FF\"  \n",
    "                              u\"\\U0001F680-\\U0001F6FF\"  \n",
    "                              u\"\\U0001F700-\\U0001F77F\"  \n",
    "                              u\"\\U0001F780-\\U0001F7FF\"  \n",
    "                              u\"\\U0001F800-\\U0001F8FF\"  \n",
    "                              u\"\\U0001F900-\\U0001F9FF\"  \n",
    "                              u\"\\U0001FA00-\\U0001FA6F\"  \n",
    "                              u\"\\U0001FA70-\\U0001FAFF\"  \n",
    "                              u\"\\U00002702-\\U000027B0\"  \n",
    "                              u\"\\U000024C2-\\U0001F251\"\n",
    "                              \"]+\", flags=re.UNICODE)\n",
    "  text = text.lower()\n",
    "  text = re.sub('\\[.*?\\]', ' ', text)\n",
    "  text = re.sub('https?://\\S+|www\\.\\S+', ' ', text)\n",
    "  text = re.sub('<.*?>+', ' ', text)\n",
    "  text = re.sub('[%s]' % re.escape(string.punctuation), ' ', text)\n",
    "  text = re.sub('\\n', ' ', text)\n",
    "  text = re.sub('\\w*\\d\\w*', ' ', text)\n",
    "  text = re.sub('<handle replaced>', '', text)\n",
    "  text = emoji_pattern.sub(r'', text)\n",
    "  return text"
   ]
  },
  {
   "cell_type": "code",
   "execution_count": 71,
   "metadata": {
    "execution": {
     "iopub.execute_input": "2025-04-13T19:55:38.414568Z",
     "iopub.status.busy": "2025-04-13T19:55:38.414305Z",
     "iopub.status.idle": "2025-04-13T19:55:38.681512Z",
     "shell.execute_reply": "2025-04-13T19:55:38.680979Z",
     "shell.execute_reply.started": "2025-04-13T19:55:38.414549Z"
    },
    "trusted": true
   },
   "outputs": [],
   "source": [
    "eng_train['text'] = eng_train['text'].apply(lambda x: normalize_text(x))\n",
    "eng_train\n",
    "eng_val['text'] = eng_val['text'].apply(lambda x: normalize_text(x))"
   ]
  },
  {
   "cell_type": "code",
   "execution_count": 72,
   "metadata": {
    "execution": {
     "iopub.execute_input": "2025-04-13T19:55:41.931913Z",
     "iopub.status.busy": "2025-04-13T19:55:41.931617Z",
     "iopub.status.idle": "2025-04-13T19:55:41.938740Z",
     "shell.execute_reply": "2025-04-13T19:55:41.938043Z",
     "shell.execute_reply.started": "2025-04-13T19:55:41.931895Z"
    },
    "trusted": true
   },
   "outputs": [
    {
     "name": "stderr",
     "output_type": "stream",
     "text": [
      "[nltk_data] Downloading package punkt to /usr/share/nltk_data...\n",
      "[nltk_data]   Package punkt is already up-to-date!\n",
      "[nltk_data] Downloading package stopwords to /usr/share/nltk_data...\n",
      "[nltk_data]   Package stopwords is already up-to-date!\n",
      "[nltk_data] Downloading package wordnet to /usr/share/nltk_data...\n",
      "[nltk_data]   Package wordnet is already up-to-date!\n"
     ]
    },
    {
     "data": {
      "text/plain": [
       "True"
      ]
     },
     "execution_count": 72,
     "metadata": {},
     "output_type": "execute_result"
    }
   ],
   "source": [
    "import torch\n",
    "import torch.nn as nn\n",
    "import torch.optim as optim\n",
    "from torch.utils.data import Dataset, DataLoader\n",
    "import pandas as pd\n",
    "import numpy as np\n",
    "from tqdm import tqdm\n",
    "from sklearn.metrics import f1_score\n",
    "from sklearn.model_selection import train_test_split\n",
    "import re\n",
    "from nltk.tokenize import word_tokenize\n",
    "import nltk\n",
    "nltk.download('punkt')\n",
    "nltk.download('stopwords')\n",
    "nltk.download('wordnet')"
   ]
  },
  {
   "cell_type": "code",
   "execution_count": 73,
   "metadata": {
    "execution": {
     "iopub.execute_input": "2025-04-13T19:55:45.310925Z",
     "iopub.status.busy": "2025-04-13T19:55:45.310301Z",
     "iopub.status.idle": "2025-04-13T19:55:45.314557Z",
     "shell.execute_reply": "2025-04-13T19:55:45.313756Z",
     "shell.execute_reply.started": "2025-04-13T19:55:45.310900Z"
    },
    "trusted": true
   },
   "outputs": [],
   "source": [
    "def clean_text(text):\n",
    "    text = normalize_text(text)\n",
    "    return word_tokenize(text)"
   ]
  },
  {
   "cell_type": "code",
   "execution_count": 74,
   "metadata": {
    "execution": {
     "iopub.execute_input": "2025-04-13T19:55:48.389317Z",
     "iopub.status.busy": "2025-04-13T19:55:48.389051Z",
     "iopub.status.idle": "2025-04-13T19:55:50.908290Z",
     "shell.execute_reply": "2025-04-13T19:55:50.907716Z",
     "shell.execute_reply.started": "2025-04-13T19:55:48.389299Z"
    },
    "trusted": true
   },
   "outputs": [],
   "source": [
    "all_text = tamil_train['text'].tolist() + tamil_val['text'].tolist()\n",
    "tokenized_texts = [clean_text(t) for t in all_text]\n",
    "vocab = {'<PAD>': 0, '<UNK>': 1}\n",
    "for sentence in tokenized_texts:\n",
    "    for word in sentence:\n",
    "        if word not in vocab:\n",
    "            vocab[word] = len(vocab)"
   ]
  },
  {
   "cell_type": "code",
   "execution_count": 75,
   "metadata": {
    "execution": {
     "iopub.execute_input": "2025-04-13T19:55:53.640959Z",
     "iopub.status.busy": "2025-04-13T19:55:53.640446Z",
     "iopub.status.idle": "2025-04-13T19:55:53.646340Z",
     "shell.execute_reply": "2025-04-13T19:55:53.645614Z",
     "shell.execute_reply.started": "2025-04-13T19:55:53.640937Z"
    },
    "trusted": true
   },
   "outputs": [],
   "source": [
    "def load_glove(file_path, vocab, embedding_dim=100):\n",
    "    embeddings_index = {}\n",
    "    with open(file_path, 'r', encoding='utf-8') as f:\n",
    "        for line in f:\n",
    "            values = line.split()\n",
    "            word = values[0]\n",
    "            vector = np.asarray(values[1:], dtype='float32')\n",
    "            embeddings_index[word] = vector\n",
    "\n",
    "    embedding_matrix = np.zeros((len(vocab), embedding_dim))\n",
    "    for word, idx in vocab.items():\n",
    "        embedding_vector = embeddings_index.get(word)\n",
    "        if embedding_vector is not None:\n",
    "            embedding_matrix[idx] = embedding_vector\n",
    "        else:\n",
    "            embedding_matrix[idx] = np.random.normal(scale=0.6, size=(embedding_dim,))\n",
    "    return torch.tensor(embedding_matrix, dtype=torch.float32)\n"
   ]
  },
  {
   "cell_type": "code",
   "execution_count": null,
   "metadata": {
    "execution": {
     "iopub.execute_input": "2025-04-13T19:55:57.602195Z",
     "iopub.status.busy": "2025-04-13T19:55:57.601619Z",
     "iopub.status.idle": "2025-04-13T19:56:24.086604Z",
     "shell.execute_reply": "2025-04-13T19:56:24.086067Z",
     "shell.execute_reply.started": "2025-04-13T19:55:57.602172Z"
    },
    "trusted": true
   },
   "outputs": [],
   "source": [
    "embedding_dim = 300\n",
    "glove_path = \"/kaggle/input/hertlex-hindi-data/glove.6B.300d.txt\"  \n",
    "embedding_matrix = load_glove(glove_path, vocab, embedding_dim)\n"
   ]
  },
  {
   "cell_type": "code",
   "execution_count": null,
   "metadata": {
    "execution": {
     "iopub.execute_input": "2025-04-13T19:56:30.572742Z",
     "iopub.status.busy": "2025-04-13T19:56:30.572483Z",
     "iopub.status.idle": "2025-04-13T19:56:30.578601Z",
     "shell.execute_reply": "2025-04-13T19:56:30.577818Z",
     "shell.execute_reply.started": "2025-04-13T19:56:30.572724Z"
    },
    "trusted": true
   },
   "outputs": [],
   "source": [
    "class TextDataset(Dataset):\n",
    "    def __init__(self, dataframe, word2idx, max_len):\n",
    "        self.texts = dataframe['text'].tolist()\n",
    "        self.labels = dataframe['label'].tolist()\n",
    "        self.vocab = word2idx\n",
    "        self.max_len = max_len\n",
    "\n",
    "    def __len__(self):\n",
    "        return len(self.texts)\n",
    "\n",
    "\n",
    "\n",
    "    def __getitem__(self, idx):\n",
    "        tokens = clean_text(self.texts[idx])\n",
    "        ids = [self.vocab.get(w, self.vocab['<UNK>']) for w in tokens]\n",
    "        if len(ids) < self.max_len:\n",
    "            ids += [self.vocab['<PAD>']] * (self.max_len - len(ids))\n",
    "        else:\n",
    "            ids = ids[:self.max_len]\n",
    "        return torch.tensor(ids), torch.tensor(self.labels[idx])"
   ]
  },
  {
   "cell_type": "code",
   "execution_count": 78,
   "metadata": {
    "execution": {
     "iopub.execute_input": "2025-04-13T19:56:36.334272Z",
     "iopub.status.busy": "2025-04-13T19:56:36.333724Z",
     "iopub.status.idle": "2025-04-13T19:56:36.339341Z",
     "shell.execute_reply": "2025-04-13T19:56:36.338563Z",
     "shell.execute_reply.started": "2025-04-13T19:56:36.334251Z"
    },
    "trusted": true
   },
   "outputs": [],
   "source": [
    "train_dataset = TextDataset(eng_train, vocab,max_len=100)\n",
    "val_dataset = TextDataset(eng_val, vocab,max_len=100)\n",
    "\n",
    "train_loader = DataLoader(train_dataset, batch_size=32, shuffle=True)\n",
    "val_loader = DataLoader(val_dataset, batch_size=32)"
   ]
  },
  {
   "cell_type": "code",
   "execution_count": 79,
   "metadata": {
    "execution": {
     "iopub.execute_input": "2025-04-13T19:56:40.235031Z",
     "iopub.status.busy": "2025-04-13T19:56:40.234740Z",
     "iopub.status.idle": "2025-04-13T19:56:40.241884Z",
     "shell.execute_reply": "2025-04-13T19:56:40.241155Z",
     "shell.execute_reply.started": "2025-04-13T19:56:40.235013Z"
    },
    "trusted": true
   },
   "outputs": [],
   "source": [
    "class CNNBiLSTMClassifier(nn.Module):\n",
    "    def __init__(self, embedding_matrix):\n",
    "        super(CNNBiLSTMClassifier, self).__init__()\n",
    "        vocab_size, embed_size = embedding_matrix.shape\n",
    "        self.embedding = nn.Embedding(vocab_size, embed_size)\n",
    "        self.embedding.weight = nn.Parameter(torch.tensor(embedding_matrix, dtype=torch.float32))\n",
    "        self.embedding.weight.requires_grad = False\n",
    "        self.dropout1 = nn.Dropout(0.1)\n",
    "        self.conv1 = nn.Conv1d(embed_size, 64, kernel_size=2)\n",
    "        self.lstm = nn.LSTM(64, 128, batch_first=True, bidirectional=True)\n",
    "        self.avgpool = nn.AdaptiveAvgPool1d(1)\n",
    "        self.fc = nn.Linear(256, 128)\n",
    "        self.dropout2 = nn.Dropout(0.1)\n",
    "        self.out = nn.Linear(128, 2)\n",
    "\n",
    "    def forward(self, x):\n",
    "        x = self.embedding(x)\n",
    "        x = self.dropout1(x)\n",
    "        x = x.permute(0, 2, 1)\n",
    "        x = self.conv1(x)\n",
    "        x = x.permute(0, 2, 1)\n",
    "        x, _ = self.lstm(x)\n",
    "        x = x.permute(0, 2, 1)\n",
    "        x = self.avgpool(x).squeeze(2)\n",
    "        x = torch.relu(self.fc(x))\n",
    "        x = self.dropout2(x)\n",
    "        return self.out(x)\n"
   ]
  },
  {
   "cell_type": "code",
   "execution_count": 80,
   "metadata": {
    "execution": {
     "iopub.execute_input": "2025-04-13T19:56:46.880910Z",
     "iopub.status.busy": "2025-04-13T19:56:46.880596Z",
     "iopub.status.idle": "2025-04-13T19:56:47.005176Z",
     "shell.execute_reply": "2025-04-13T19:56:47.004333Z",
     "shell.execute_reply.started": "2025-04-13T19:56:46.880887Z"
    },
    "trusted": true
   },
   "outputs": [
    {
     "name": "stderr",
     "output_type": "stream",
     "text": [
      "/tmp/ipykernel_31/360869739.py:6: UserWarning: To copy construct from a tensor, it is recommended to use sourceTensor.clone().detach() or sourceTensor.clone().detach().requires_grad_(True), rather than torch.tensor(sourceTensor).\n",
      "  self.embedding.weight = nn.Parameter(torch.tensor(embedding_matrix, dtype=torch.float32))\n"
     ]
    }
   ],
   "source": [
    "device = torch.device(\"cuda\" if torch.cuda.is_available() else \"cpu\")\n",
    "model = CNNBiLSTMClassifier(embedding_matrix).to(device)\n",
    "criterion = nn.CrossEntropyLoss()\n",
    "optimizer = optim.Adam(model.parameters(), lr=0.0005)\n"
   ]
  },
  {
   "cell_type": "code",
   "execution_count": 81,
   "metadata": {
    "execution": {
     "iopub.execute_input": "2025-04-13T19:56:50.696208Z",
     "iopub.status.busy": "2025-04-13T19:56:50.695943Z",
     "iopub.status.idle": "2025-04-13T19:56:50.702257Z",
     "shell.execute_reply": "2025-04-13T19:56:50.701484Z",
     "shell.execute_reply.started": "2025-04-13T19:56:50.696189Z"
    },
    "trusted": true
   },
   "outputs": [],
   "source": [
    "def train_epoch(model, loader, optimizer, criterion):\n",
    "    model.train()\n",
    "    total_loss = 0\n",
    "    for inputs,labels in tqdm(loader, desc=\"Training\"):\n",
    "        inputs, labels = inputs.to(device), labels.to(device)\n",
    "        optimizer.zero_grad()\n",
    "        outputs = model(inputs)\n",
    "        loss = criterion(outputs, labels)\n",
    "        loss.backward()\n",
    "        optimizer.step()\n",
    "        total_loss += loss.item()\n",
    "    return total_loss / len(loader)\n",
    "\n",
    "def eval_model(model, loader):\n",
    "    model.eval()\n",
    "    preds, targets = [], []\n",
    "    with torch.no_grad():\n",
    "        for inputs , labels in tqdm(loader, desc=\"Evaluating\"):\n",
    "            inputs, labels = inputs.to(device), labels.to(device)\n",
    "            outputs = model(inputs)\n",
    "            pred = torch.argmax(outputs, dim=1)\n",
    "            preds.extend(pred.cpu().numpy())\n",
    "            targets.extend(labels.cpu().numpy())\n",
    "    return f1_score(targets, preds, average='macro')"
   ]
  },
  {
   "cell_type": "code",
   "execution_count": 92,
   "metadata": {
    "execution": {
     "iopub.execute_input": "2025-04-13T20:00:00.564687Z",
     "iopub.status.busy": "2025-04-13T20:00:00.564179Z",
     "iopub.status.idle": "2025-04-13T20:00:29.476702Z",
     "shell.execute_reply": "2025-04-13T20:00:29.476020Z",
     "shell.execute_reply.started": "2025-04-13T20:00:00.564665Z"
    },
    "trusted": true
   },
   "outputs": [
    {
     "name": "stdout",
     "output_type": "stream",
     "text": [
      "\n",
      "Epoch 1\n"
     ]
    },
    {
     "name": "stderr",
     "output_type": "stream",
     "text": [
      "Training: 100%|██████████| 128/128 [00:01<00:00, 88.00it/s]\n",
      "Evaluating: 100%|██████████| 55/55 [00:00<00:00, 121.66it/s]\n"
     ]
    },
    {
     "name": "stdout",
     "output_type": "stream",
     "text": [
      "Train Loss: 0.8709 | Val F1: 0.4097\n",
      "\n",
      "Epoch 2\n"
     ]
    },
    {
     "name": "stderr",
     "output_type": "stream",
     "text": [
      "Training: 100%|██████████| 128/128 [00:01<00:00, 86.14it/s]\n",
      "Evaluating: 100%|██████████| 55/55 [00:00<00:00, 121.87it/s]\n"
     ]
    },
    {
     "name": "stdout",
     "output_type": "stream",
     "text": [
      "Train Loss: 0.8702 | Val F1: 0.4097\n",
      "\n",
      "Epoch 3\n"
     ]
    },
    {
     "name": "stderr",
     "output_type": "stream",
     "text": [
      "Training: 100%|██████████| 128/128 [00:01<00:00, 87.95it/s]\n",
      "Evaluating: 100%|██████████| 55/55 [00:00<00:00, 122.90it/s]\n"
     ]
    },
    {
     "name": "stdout",
     "output_type": "stream",
     "text": [
      "Train Loss: 0.8707 | Val F1: 0.4097\n",
      "\n",
      "Epoch 4\n"
     ]
    },
    {
     "name": "stderr",
     "output_type": "stream",
     "text": [
      "Training: 100%|██████████| 128/128 [00:01<00:00, 88.59it/s]\n",
      "Evaluating: 100%|██████████| 55/55 [00:00<00:00, 121.53it/s]\n"
     ]
    },
    {
     "name": "stdout",
     "output_type": "stream",
     "text": [
      "Train Loss: 0.8684 | Val F1: 0.4097\n",
      "\n",
      "Epoch 5\n"
     ]
    },
    {
     "name": "stderr",
     "output_type": "stream",
     "text": [
      "Training: 100%|██████████| 128/128 [00:01<00:00, 88.31it/s]\n",
      "Evaluating: 100%|██████████| 55/55 [00:00<00:00, 122.50it/s]\n"
     ]
    },
    {
     "name": "stdout",
     "output_type": "stream",
     "text": [
      "Train Loss: 0.8701 | Val F1: 0.4097\n",
      "\n",
      "Epoch 6\n"
     ]
    },
    {
     "name": "stderr",
     "output_type": "stream",
     "text": [
      "Training: 100%|██████████| 128/128 [00:01<00:00, 88.04it/s]\n",
      "Evaluating: 100%|██████████| 55/55 [00:00<00:00, 121.72it/s]\n"
     ]
    },
    {
     "name": "stdout",
     "output_type": "stream",
     "text": [
      "Train Loss: 0.8717 | Val F1: 0.4097\n",
      "\n",
      "Epoch 7\n"
     ]
    },
    {
     "name": "stderr",
     "output_type": "stream",
     "text": [
      "Training: 100%|██████████| 128/128 [00:01<00:00, 84.58it/s]\n",
      "Evaluating: 100%|██████████| 55/55 [00:00<00:00, 114.26it/s]\n"
     ]
    },
    {
     "name": "stdout",
     "output_type": "stream",
     "text": [
      "Train Loss: 0.8687 | Val F1: 0.4097\n",
      "\n",
      "Epoch 8\n"
     ]
    },
    {
     "name": "stderr",
     "output_type": "stream",
     "text": [
      "Training: 100%|██████████| 128/128 [00:01<00:00, 87.95it/s]\n",
      "Evaluating: 100%|██████████| 55/55 [00:00<00:00, 123.56it/s]\n"
     ]
    },
    {
     "name": "stdout",
     "output_type": "stream",
     "text": [
      "Train Loss: 0.8700 | Val F1: 0.4097\n",
      "\n",
      "Epoch 9\n"
     ]
    },
    {
     "name": "stderr",
     "output_type": "stream",
     "text": [
      "Training: 100%|██████████| 128/128 [00:01<00:00, 87.72it/s]\n",
      "Evaluating: 100%|██████████| 55/55 [00:00<00:00, 121.18it/s]\n"
     ]
    },
    {
     "name": "stdout",
     "output_type": "stream",
     "text": [
      "Train Loss: 0.8687 | Val F1: 0.4097\n",
      "\n",
      "Epoch 10\n"
     ]
    },
    {
     "name": "stderr",
     "output_type": "stream",
     "text": [
      "Training: 100%|██████████| 128/128 [00:01<00:00, 88.94it/s]\n",
      "Evaluating: 100%|██████████| 55/55 [00:00<00:00, 123.19it/s]\n"
     ]
    },
    {
     "name": "stdout",
     "output_type": "stream",
     "text": [
      "Train Loss: 0.8698 | Val F1: 0.4097\n",
      "\n",
      "Epoch 11\n"
     ]
    },
    {
     "name": "stderr",
     "output_type": "stream",
     "text": [
      "Training: 100%|██████████| 128/128 [00:01<00:00, 89.03it/s]\n",
      "Evaluating: 100%|██████████| 55/55 [00:00<00:00, 123.40it/s]\n"
     ]
    },
    {
     "name": "stdout",
     "output_type": "stream",
     "text": [
      "Train Loss: 0.8725 | Val F1: 0.4097\n",
      "\n",
      "Epoch 12\n"
     ]
    },
    {
     "name": "stderr",
     "output_type": "stream",
     "text": [
      "Training: 100%|██████████| 128/128 [00:01<00:00, 86.32it/s]\n",
      "Evaluating: 100%|██████████| 55/55 [00:00<00:00, 120.45it/s]\n"
     ]
    },
    {
     "name": "stdout",
     "output_type": "stream",
     "text": [
      "Train Loss: 0.8683 | Val F1: 0.4097\n",
      "\n",
      "Epoch 13\n"
     ]
    },
    {
     "name": "stderr",
     "output_type": "stream",
     "text": [
      "Training: 100%|██████████| 128/128 [00:01<00:00, 87.72it/s]\n",
      "Evaluating: 100%|██████████| 55/55 [00:00<00:00, 122.89it/s]\n"
     ]
    },
    {
     "name": "stdout",
     "output_type": "stream",
     "text": [
      "Train Loss: 0.8705 | Val F1: 0.4097\n",
      "\n",
      "Epoch 14\n"
     ]
    },
    {
     "name": "stderr",
     "output_type": "stream",
     "text": [
      "Training: 100%|██████████| 128/128 [00:01<00:00, 89.00it/s]\n",
      "Evaluating: 100%|██████████| 55/55 [00:00<00:00, 122.67it/s]\n"
     ]
    },
    {
     "name": "stdout",
     "output_type": "stream",
     "text": [
      "Train Loss: 0.8687 | Val F1: 0.4097\n",
      "\n",
      "Epoch 15\n"
     ]
    },
    {
     "name": "stderr",
     "output_type": "stream",
     "text": [
      "Training: 100%|██████████| 128/128 [00:01<00:00, 88.44it/s]\n",
      "Evaluating: 100%|██████████| 55/55 [00:00<00:00, 122.94it/s]\n"
     ]
    },
    {
     "name": "stdout",
     "output_type": "stream",
     "text": [
      "Train Loss: 0.8709 | Val F1: 0.4097\n"
     ]
    }
   ],
   "source": [
    "for epoch in range(15):\n",
    "    print(f\"\\nEpoch {epoch+1}\")\n",
    "    train_loss = train_epoch(model, train_loader,optimizer, criterion)\n",
    "    val_f1 = eval_model(model, val_loader)\n",
    "    print(f\"Train Loss: {train_loss:.4f} | Val F1: {val_f1:.4f}\")\n",
    "torch.save(model.state_dict(), \"eng_glove_cnn_bilstm_model.pth\")\n",
    "\n",
    "\n"
   ]
  },
  {
   "cell_type": "code",
   "execution_count": 93,
   "metadata": {
    "execution": {
     "iopub.execute_input": "2025-04-13T20:00:33.152051Z",
     "iopub.status.busy": "2025-04-13T20:00:33.151746Z",
     "iopub.status.idle": "2025-04-13T20:00:33.158499Z",
     "shell.execute_reply": "2025-04-13T20:00:33.157718Z",
     "shell.execute_reply.started": "2025-04-13T20:00:33.152032Z"
    },
    "trusted": true
   },
   "outputs": [],
   "source": [
    "def data_preprocessing(df, language):\n",
    "    if language == \"tamil\":\n",
    "        annotator_cols = [\"ta_a1\", \"ta_a2\", \"ta_a3\", \"ta_a4\", \"ta_a5\", \"ta_a6\"]\n",
    "    elif language == \"hindi\":\n",
    "        annotator_cols = [\"hi_a1\", \"hi_a2\", \"hi_a3\", \"hi_a4\", \"hi_a5\"]\n",
    "    else:\n",
    "        annotator_cols = [\"en_a1\", \"en_a2\", \"en_a3\", \"en_a4\", \"en_a5\", \"en_a6\"]\n",
    "\n",
    "    df[annotator_cols] = df[annotator_cols].fillna(\"\")\n",
    "\n",
    "    def majority_label(row):\n",
    "        votes = []\n",
    "        for col in annotator_cols:\n",
    "            val = row[col]\n",
    "            try:\n",
    "                if val != \"\":\n",
    "                    num_val = float(val)\n",
    "                    if num_val in [0.0, 1.0]:\n",
    "                        votes.append(int(num_val))\n",
    "            except:\n",
    "                continue\n",
    "        if not votes:\n",
    "            return 0\n",
    "        return 1 if votes.count(1) > votes.count(0) else 0\n",
    "\n",
    "    df[\"label\"] = df.apply(majority_label, axis=1)\n",
    "    df[\"label\"] = df[\"label\"].astype(int)\n",
    "    df = df.drop(columns=annotator_cols + [\"key\"])\n",
    "    print(df[\"label\"].value_counts())\n",
    "    return df"
   ]
  },
  {
   "cell_type": "code",
   "execution_count": 94,
   "metadata": {
    "execution": {
     "iopub.execute_input": "2025-04-13T20:00:37.642929Z",
     "iopub.status.busy": "2025-04-13T20:00:37.642379Z",
     "iopub.status.idle": "2025-04-13T20:00:37.956518Z",
     "shell.execute_reply": "2025-04-13T20:00:37.955762Z",
     "shell.execute_reply.started": "2025-04-13T20:00:37.642906Z"
    },
    "trusted": true
   },
   "outputs": [
    {
     "name": "stdout",
     "output_type": "stream",
     "text": [
      "Rows: 6531, Columns: 8\n",
      "label\n",
      "0    5269\n",
      "1    1262\n",
      "Name: count, dtype: int64\n",
      "Rows: 6531, Columns: 2\n"
     ]
    }
   ],
   "source": [
    "df_eng = pd.read_csv(\"/kaggle/input/hertlex-hindi-data/train_en_l1.csv\")\n",
    "rows, columns = df_eng.shape\n",
    "print(f\"Rows: {rows}, Columns: {columns}\")\n",
    "eng_train_gender = data_preprocessing(df_eng,\"english\")\n",
    "eng_train_gender['text'] = eng_train_gender['text'].apply(lambda x: normalize_text(x))\n",
    "rows, columns = eng_train_gender.shape\n",
    "print(f\"Rows: {rows}, Columns: {columns}\")\n"
   ]
  },
  {
   "cell_type": "code",
   "execution_count": 95,
   "metadata": {
    "execution": {
     "iopub.execute_input": "2025-04-13T20:00:42.209721Z",
     "iopub.status.busy": "2025-04-13T20:00:42.209449Z",
     "iopub.status.idle": "2025-04-13T20:00:42.214611Z",
     "shell.execute_reply": "2025-04-13T20:00:42.213759Z",
     "shell.execute_reply.started": "2025-04-13T20:00:42.209701Z"
    },
    "trusted": true
   },
   "outputs": [],
   "source": [
    "gendered_train_dataset = TextDataset(eng_train_gender, vocab,max_len=100)\n",
    "gendered_train_loader = DataLoader(gendered_train_dataset, batch_size=32, shuffle=True)\n"
   ]
  },
  {
   "cell_type": "code",
   "execution_count": 96,
   "metadata": {
    "execution": {
     "iopub.execute_input": "2025-04-13T20:00:46.021669Z",
     "iopub.status.busy": "2025-04-13T20:00:46.021411Z",
     "iopub.status.idle": "2025-04-13T20:00:46.181871Z",
     "shell.execute_reply": "2025-04-13T20:00:46.181067Z",
     "shell.execute_reply.started": "2025-04-13T20:00:46.021651Z"
    },
    "trusted": true
   },
   "outputs": [
    {
     "name": "stdout",
     "output_type": "stream",
     "text": [
      "\n",
      "Loaded Stage 1 model weights (hate speech) for fine-tuning.\n"
     ]
    },
    {
     "name": "stderr",
     "output_type": "stream",
     "text": [
      "/tmp/ipykernel_31/360869739.py:6: UserWarning: To copy construct from a tensor, it is recommended to use sourceTensor.clone().detach() or sourceTensor.clone().detach().requires_grad_(True), rather than torch.tensor(sourceTensor).\n",
      "  self.embedding.weight = nn.Parameter(torch.tensor(embedding_matrix, dtype=torch.float32))\n",
      "/tmp/ipykernel_31/2592305514.py:4: FutureWarning: You are using `torch.load` with `weights_only=False` (the current default value), which uses the default pickle module implicitly. It is possible to construct malicious pickle data which will execute arbitrary code during unpickling (See https://github.com/pytorch/pytorch/blob/main/SECURITY.md#untrusted-models for more details). In a future release, the default value for `weights_only` will be flipped to `True`. This limits the functions that could be executed during unpickling. Arbitrary objects will no longer be allowed to be loaded via this mode unless they are explicitly allowlisted by the user via `torch.serialization.add_safe_globals`. We recommend you start setting `weights_only=True` for any use case where you don't have full control of the loaded file. Please open an issue on GitHub for any issues related to this experimental feature.\n",
      "  model.load_state_dict(torch.load(\"/kaggle/working/eng_glove_cnn_bilstm_model.pth\"))\n"
     ]
    }
   ],
   "source": [
    "device = torch.device(\"cuda\" if torch.cuda.is_available() else \"cpu\")\n",
    "\n",
    "model = CNNBiLSTMClassifier(embedding_matrix).to(device)\n",
    "model.load_state_dict(torch.load(\"/kaggle/working/eng_glove_cnn_bilstm_model.pth\"))\n",
    "print(\"\\nLoaded Stage 1 model weights (hate speech) for fine-tuning.\")\n"
   ]
  },
  {
   "cell_type": "code",
   "execution_count": null,
   "metadata": {
    "execution": {
     "iopub.execute_input": "2025-04-13T20:00:50.282886Z",
     "iopub.status.busy": "2025-04-13T20:00:50.282320Z",
     "iopub.status.idle": "2025-04-13T20:01:26.483595Z",
     "shell.execute_reply": "2025-04-13T20:01:26.482718Z",
     "shell.execute_reply.started": "2025-04-13T20:00:50.282863Z"
    },
    "trusted": true
   },
   "outputs": [
    {
     "name": "stderr",
     "output_type": "stream",
     "text": [
      "Training Stage 2 - Epoch 1: 100%|██████████| 205/205 [00:02<00:00, 85.65it/s, loss=0.178]\n"
     ]
    },
    {
     "name": "stdout",
     "output_type": "stream",
     "text": [
      "Epoch 1 Average Loss: 0.3789\n"
     ]
    },
    {
     "name": "stderr",
     "output_type": "stream",
     "text": [
      "Training Stage 2 - Epoch 2: 100%|██████████| 205/205 [00:02<00:00, 84.90it/s, loss=0.174]\n"
     ]
    },
    {
     "name": "stdout",
     "output_type": "stream",
     "text": [
      "Epoch 2 Average Loss: 0.3666\n"
     ]
    },
    {
     "name": "stderr",
     "output_type": "stream",
     "text": [
      "Training Stage 2 - Epoch 3: 100%|██████████| 205/205 [00:02<00:00, 85.76it/s, loss=0.223]\n"
     ]
    },
    {
     "name": "stdout",
     "output_type": "stream",
     "text": [
      "Epoch 3 Average Loss: 0.3567\n"
     ]
    },
    {
     "name": "stderr",
     "output_type": "stream",
     "text": [
      "Training Stage 2 - Epoch 4: 100%|██████████| 205/205 [00:02<00:00, 86.59it/s, loss=0.684]\n"
     ]
    },
    {
     "name": "stdout",
     "output_type": "stream",
     "text": [
      "Epoch 4 Average Loss: 0.3467\n"
     ]
    },
    {
     "name": "stderr",
     "output_type": "stream",
     "text": [
      "Training Stage 2 - Epoch 5: 100%|██████████| 205/205 [00:02<00:00, 85.78it/s, loss=0.114]\n"
     ]
    },
    {
     "name": "stdout",
     "output_type": "stream",
     "text": [
      "Epoch 5 Average Loss: 0.3360\n"
     ]
    },
    {
     "name": "stderr",
     "output_type": "stream",
     "text": [
      "Training Stage 2 - Epoch 6: 100%|██████████| 205/205 [00:02<00:00, 84.06it/s, loss=0.0758]\n"
     ]
    },
    {
     "name": "stdout",
     "output_type": "stream",
     "text": [
      "Epoch 6 Average Loss: 0.3210\n"
     ]
    },
    {
     "name": "stderr",
     "output_type": "stream",
     "text": [
      "Training Stage 2 - Epoch 7: 100%|██████████| 205/205 [00:02<00:00, 85.24it/s, loss=0.319]\n"
     ]
    },
    {
     "name": "stdout",
     "output_type": "stream",
     "text": [
      "Epoch 7 Average Loss: 0.3118\n"
     ]
    },
    {
     "name": "stderr",
     "output_type": "stream",
     "text": [
      "Training Stage 2 - Epoch 8: 100%|██████████| 205/205 [00:02<00:00, 84.25it/s, loss=0.157]\n"
     ]
    },
    {
     "name": "stdout",
     "output_type": "stream",
     "text": [
      "Epoch 8 Average Loss: 0.3022\n"
     ]
    },
    {
     "name": "stderr",
     "output_type": "stream",
     "text": [
      "Training Stage 2 - Epoch 9: 100%|██████████| 205/205 [00:02<00:00, 85.61it/s, loss=0.0409]\n"
     ]
    },
    {
     "name": "stdout",
     "output_type": "stream",
     "text": [
      "Epoch 9 Average Loss: 0.2864\n"
     ]
    },
    {
     "name": "stderr",
     "output_type": "stream",
     "text": [
      "Training Stage 2 - Epoch 10: 100%|██████████| 205/205 [00:02<00:00, 84.00it/s, loss=0.0292]\n"
     ]
    },
    {
     "name": "stdout",
     "output_type": "stream",
     "text": [
      "Epoch 10 Average Loss: 0.2676\n"
     ]
    },
    {
     "name": "stderr",
     "output_type": "stream",
     "text": [
      "Training Stage 2 - Epoch 11: 100%|██████████| 205/205 [00:02<00:00, 84.92it/s, loss=0.216]\n"
     ]
    },
    {
     "name": "stdout",
     "output_type": "stream",
     "text": [
      "Epoch 11 Average Loss: 0.2585\n"
     ]
    },
    {
     "name": "stderr",
     "output_type": "stream",
     "text": [
      "Training Stage 2 - Epoch 12: 100%|██████████| 205/205 [00:02<00:00, 84.58it/s, loss=0.0536]\n"
     ]
    },
    {
     "name": "stdout",
     "output_type": "stream",
     "text": [
      "Epoch 12 Average Loss: 0.2396\n"
     ]
    },
    {
     "name": "stderr",
     "output_type": "stream",
     "text": [
      "Training Stage 2 - Epoch 13: 100%|██████████| 205/205 [00:02<00:00, 86.16it/s, loss=0.169] \n"
     ]
    },
    {
     "name": "stdout",
     "output_type": "stream",
     "text": [
      "Epoch 13 Average Loss: 0.2394\n"
     ]
    },
    {
     "name": "stderr",
     "output_type": "stream",
     "text": [
      "Training Stage 2 - Epoch 14: 100%|██████████| 205/205 [00:02<00:00, 85.68it/s, loss=0.109] \n"
     ]
    },
    {
     "name": "stdout",
     "output_type": "stream",
     "text": [
      "Epoch 14 Average Loss: 0.2234\n"
     ]
    },
    {
     "name": "stderr",
     "output_type": "stream",
     "text": [
      "Training Stage 2 - Epoch 15: 100%|██████████| 205/205 [00:02<00:00, 86.88it/s, loss=0.0138]\n"
     ]
    },
    {
     "name": "stdout",
     "output_type": "stream",
     "text": [
      "Epoch 15 Average Loss: 0.2019\n",
      "✅ Stage 2 Model Saved: stage2_gendered_abuse.pth\n"
     ]
    }
   ],
   "source": [
    "def train_stage2(model, train_loader, epochs=15):\n",
    "    model.train()\n",
    "    optimizer = torch.optim.Adam(model.parameters(), lr=0.0005)\n",
    "    criterion = nn.CrossEntropyLoss()\n",
    "\n",
    "    for epoch in range(epochs):\n",
    "        total_loss = 0.0\n",
    "        loop = tqdm(train_loader, desc=f\"Training Stage 2 - Epoch {epoch+1}\")\n",
    "        for inputs,labels in loop:\n",
    "            optimizer.zero_grad()\n",
    "            inputs,labels = inputs.to(device),labels.to(device)\n",
    "\n",
    "            outputs = model(inputs)\n",
    "            loss = criterion(outputs, labels)\n",
    "            loss.backward()\n",
    "            optimizer.step()\n",
    "            total_loss += loss.item()\n",
    "            loop.set_postfix(loss=loss.item())\n",
    "\n",
    "        avg_loss = total_loss / len(train_loader)\n",
    "        print(f\"Epoch {epoch+1} Average Loss: {avg_loss:.4f}\")\n",
    "        \n",
    "    torch.save(model.state_dict(), \"stage2_gendered_abuse.pth\")\n",
    "    print(\"Stage 2 Model Saved: stage2_gendered_abuse.pth\")\n",
    "\n",
    "train_stage2(model, gendered_train_loader)\n"
   ]
  },
  {
   "cell_type": "code",
   "execution_count": null,
   "metadata": {
    "execution": {
     "iopub.execute_input": "2025-04-13T20:01:31.801003Z",
     "iopub.status.busy": "2025-04-13T20:01:31.800147Z",
     "iopub.status.idle": "2025-04-13T20:01:32.282355Z",
     "shell.execute_reply": "2025-04-13T20:01:32.281552Z",
     "shell.execute_reply.started": "2025-04-13T20:01:31.800972Z"
    },
    "trusted": true
   },
   "outputs": [
    {
     "name": "stdout",
     "output_type": "stream",
     "text": [
      "Test Set: (1107, 8)\n",
      "label\n",
      "0    877\n",
      "1    230\n",
      "Name: count, dtype: int64\n"
     ]
    },
    {
     "name": "stderr",
     "output_type": "stream",
     "text": [
      "/tmp/ipykernel_31/360869739.py:6: UserWarning: To copy construct from a tensor, it is recommended to use sourceTensor.clone().detach() or sourceTensor.clone().detach().requires_grad_(True), rather than torch.tensor(sourceTensor).\n",
      "  self.embedding.weight = nn.Parameter(torch.tensor(embedding_matrix, dtype=torch.float32))\n",
      "/tmp/ipykernel_31/1018107834.py:13: FutureWarning: You are using `torch.load` with `weights_only=False` (the current default value), which uses the default pickle module implicitly. It is possible to construct malicious pickle data which will execute arbitrary code during unpickling (See https://github.com/pytorch/pytorch/blob/main/SECURITY.md#untrusted-models for more details). In a future release, the default value for `weights_only` will be flipped to `True`. This limits the functions that could be executed during unpickling. Arbitrary objects will no longer be allowed to be loaded via this mode unless they are explicitly allowlisted by the user via `torch.serialization.add_safe_globals`. We recommend you start setting `weights_only=True` for any use case where you don't have full control of the loaded file. Please open an issue on GitHub for any issues related to this experimental feature.\n",
      "  model.load_state_dict(torch.load(\"/kaggle/working/stage2_gendered_abuse.pth\"))\n",
      "Training Stage 2 - Epoch 15: 100%|██████████| 35/35 [00:00<00:00, 147.57it/s]"
     ]
    },
    {
     "name": "stdout",
     "output_type": "stream",
     "text": [
      "\n",
      "Test F1 Score (Macro): 0.5408\n",
      "\n",
      "Classification Report:\n",
      "               precision    recall  f1-score   support\n",
      "\n",
      "           0     0.8075    0.9327    0.8656       877\n",
      "           1     0.3723    0.1522    0.2160       230\n",
      "\n",
      "    accuracy                         0.7706      1107\n",
      "   macro avg     0.5899    0.5424    0.5408      1107\n",
      "weighted avg     0.7171    0.7706    0.7307      1107\n",
      "\n",
      "✅ Final Gendered Abuse Test F1 Score (Macro): 0.5408\n"
     ]
    },
    {
     "name": "stderr",
     "output_type": "stream",
     "text": [
      "\n"
     ]
    }
   ],
   "source": [
    "from sklearn.metrics import f1_score, classification_report\n",
    "df_eng_test = pd.read_csv(\"/kaggle/input/hertlex-hindi-data/test_en_l1.csv\", engine='python')\n",
    "print(\"Test Set:\", df_eng_test.shape)\n",
    "eng_test_gender = data_preprocessing(df_eng_test, \"english\")\n",
    "eng_test_gender[\"text\"] = eng_test_gender[\"text\"].apply(lambda x: normalize_text(x))\n",
    "\n",
    "gendered_test_dataset = TextDataset(eng_test_gender, vocab,max_len=100)\n",
    "gendered_test_loader = DataLoader(gendered_test_dataset, batch_size=32,shuffle=True)\n",
    "\n",
    "model = CNNBiLSTMClassifier(embedding_matrix).to(device)\n",
    "model.load_state_dict(torch.load(\"/kaggle/working/stage2_gendered_abuse.pth\"))\n",
    "model.eval()\n",
    "\n",
    "def inference_on_gendered_abuse_test(model, test_loader):\n",
    "    model.eval()\n",
    "    all_preds = []\n",
    "    all_labels = []\n",
    "\n",
    "    with torch.no_grad():\n",
    "        \n",
    "        loop = tqdm(test_loader, desc=f\"Training Stage 2 - Epoch {epoch+1}\")\n",
    "        for inputs,labels in loop:\n",
    "            inputs,labels = inputs.to(device),labels.to(device)\n",
    "\n",
    "\n",
    "\n",
    "            outputs = model(inputs)\n",
    "            preds = torch.argmax(outputs, dim=1)\n",
    "\n",
    "            all_preds.extend(preds.cpu().numpy())\n",
    "            all_labels.extend(labels.cpu().numpy())\n",
    "\n",
    "    f1_macro = f1_score(all_labels, all_preds, average='macro')\n",
    "    print(f\"\\nTest F1 Score (Macro): {f1_macro:.4f}\")\n",
    "    print(\"\\nClassification Report:\\n\", classification_report(all_labels, all_preds, digits=4))\n",
    "    return f1_macro\n",
    "\n",
    "f1_macro_test = inference_on_gendered_abuse_test(model, gendered_test_loader)\n",
    "print(f\" Final Gendered Abuse Test F1 Score (Macro): {f1_macro_test:.4f}\")\n"
   ]
  }
 ],
 "metadata": {
  "kaggle": {
   "accelerator": "gpu",
   "dataSources": [
    {
     "datasetId": 7129286,
     "sourceId": 11392776,
     "sourceType": "datasetVersion"
    }
   ],
   "dockerImageVersionId": 31011,
   "isGpuEnabled": true,
   "isInternetEnabled": true,
   "language": "python",
   "sourceType": "notebook"
  },
  "kernelspec": {
   "display_name": "Python 3",
   "language": "python",
   "name": "python3"
  },
  "language_info": {
   "codemirror_mode": {
    "name": "ipython",
    "version": 3
   },
   "file_extension": ".py",
   "mimetype": "text/x-python",
   "name": "python",
   "nbconvert_exporter": "python",
   "pygments_lexer": "ipython3",
   "version": "3.11.11"
  }
 },
 "nbformat": 4,
 "nbformat_minor": 4
}
